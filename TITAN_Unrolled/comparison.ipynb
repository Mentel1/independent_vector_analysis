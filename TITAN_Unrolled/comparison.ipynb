{
 "cells": [
  {
   "cell_type": "code",
   "execution_count": 1,
   "metadata": {},
   "outputs": [],
   "source": [
    "%load_ext autoreload\n",
    "%autoreload 2"
   ]
  },
  {
   "cell_type": "code",
   "execution_count": 2,
   "metadata": {},
   "outputs": [],
   "source": [
    "import torch\n",
    "import torch.nn as nn\n",
    "from model import *\n",
    "from data import *\n",
    "from tools import *\n",
    "from functions import *\n",
    "import os\n",
    "\n"
   ]
  },
  {
   "cell_type": "code",
   "execution_count": 19,
   "metadata": {},
   "outputs": [],
   "source": [
    "## Model parameters\n",
    "\n",
    "gamma_c = 1\n",
    "gamma_w = 0.99\n",
    "eps = 1e-12\n",
    "nu = 0.5\n",
    "zeta = 1e-3\n",
    "\n",
    "\n",
    "# Hyperparameters\n",
    "\n",
    "T = 10000\n",
    "K = 2\n",
    "N = 3\n",
    "size = 20"
   ]
  },
  {
   "cell_type": "code",
   "execution_count": 28,
   "metadata": {},
   "outputs": [
    {
     "name": "stdout",
     "output_type": "stream",
     "text": [
      "files in path:  ['X_A_46.pt', 'X_A_61.pt', 'X_A_68.pt', 'X_A_44.pt', 'X_A_89.pt', 'X_A_35.pt', 'X_A_21.pt', 'X_A_65.pt', 'X_A_66.pt', 'X_A_93.pt', 'X_A_23.pt', 'X_A_76.pt', 'X_A_53.pt', 'X_A_64.pt', 'X_A_45.pt', 'X_A_40.pt', 'X_A_78.pt', 'X_A_72.pt', 'X_A_8.pt', 'X_A_15.pt', 'X_A_98.pt', 'X_A_24.pt', 'X_A_3.pt', 'X_A_79.pt', 'X_A_0.pt', 'X_A_19.pt', 'X_A_42.pt', 'X_A_20.pt', 'X_A_7.pt', 'X_A_54.pt', 'X_A_49.pt', 'X_A_99.pt', 'X_A_50.pt', 'X_A_94.pt', 'X_A_14.pt', 'X_A_88.pt', 'X_A_6.pt', 'X_A_63.pt', 'X_A_9.pt', 'X_A_90.pt', 'X_A_43.pt', 'X_A_28.pt', 'X_A_55.pt', 'X_A_13.pt', 'X_A_58.pt', 'X_A_25.pt', 'X_A_16.pt', 'X_A_39.pt', 'X_A_91.pt', 'X_A_84.pt', 'X_A_96.pt', 'X_A_30.pt', 'X_A_69.pt', 'X_A_75.pt', 'X_A_52.pt', 'X_A_86.pt', 'X_A_71.pt', 'X_A_67.pt', 'X_A_92.pt', 'X_A_60.pt', 'X_A_29.pt', 'X_A_17.pt', 'X_A_2.pt', 'X_A_18.pt', 'X_A_5.pt', 'X_A_70.pt', 'X_A_4.pt', 'X_A_34.pt', 'X_A_73.pt', 'X_A_27.pt', 'X_A_85.pt', 'X_A_26.pt', 'X_A_51.pt', 'X_A_37.pt', 'X_A_80.pt', 'X_A_22.pt', 'X_A_83.pt', 'X_A_10.pt', 'X_A_87.pt', 'X_A_33.pt', 'X_A_12.pt', 'X_A_81.pt', 'X_A_56.pt', 'X_A_31.pt', 'X_A_62.pt', 'X_A_59.pt', 'X_A_1.pt', 'X_A_57.pt', 'X_A_11.pt', 'X_A_74.pt', 'X_A_77.pt', 'X_A_38.pt', 'X_A_97.pt', 'X_A_82.pt', 'X_A_41.pt', 'X_A_36.pt', 'X_A_32.pt', 'X_A_48.pt', 'X_A_95.pt', 'X_A_47.pt']\n"
     ]
    }
   ],
   "source": [
    "train_data = MyDatasetFolder('/workspace/TITAN/Unrolled-TITAN/TITAN_Unrolled/Datasets/train', K, N, size)"
   ]
  },
  {
   "cell_type": "code",
   "execution_count": 29,
   "metadata": {},
   "outputs": [],
   "source": [
    "train_loader = DataLoader(train_data, batch_size=4, shuffle=True)"
   ]
  },
  {
   "cell_type": "code",
   "execution_count": 30,
   "metadata": {},
   "outputs": [
    {
     "ename": "IndexError",
     "evalue": "list index out of range",
     "output_type": "error",
     "traceback": [
      "\u001b[0;31m---------------------------------------------------------------------------\u001b[0m",
      "\u001b[0;31mIndexError\u001b[0m                                Traceback (most recent call last)",
      "\u001b[0;32m/tmp/ipykernel_25416/8602900.py\u001b[0m in \u001b[0;36m<module>\u001b[0;34m\u001b[0m\n\u001b[0;32m----> 1\u001b[0;31m \u001b[0;32mfor\u001b[0m \u001b[0mi\u001b[0m\u001b[0;34m,\u001b[0m \u001b[0mminibatch\u001b[0m \u001b[0;32min\u001b[0m \u001b[0menumerate\u001b[0m\u001b[0;34m(\u001b[0m\u001b[0mtrain_loader\u001b[0m\u001b[0;34m)\u001b[0m\u001b[0;34m:\u001b[0m\u001b[0;34m\u001b[0m\u001b[0;34m\u001b[0m\u001b[0m\n\u001b[0m\u001b[1;32m      2\u001b[0m     \u001b[0mprint\u001b[0m\u001b[0;34m(\u001b[0m\u001b[0mi\u001b[0m\u001b[0;34m)\u001b[0m\u001b[0;34m\u001b[0m\u001b[0;34m\u001b[0m\u001b[0m\n\u001b[1;32m      3\u001b[0m     \u001b[0mprint\u001b[0m\u001b[0;34m(\u001b[0m\u001b[0mminibatch\u001b[0m\u001b[0;34m)\u001b[0m\u001b[0;34m\u001b[0m\u001b[0;34m\u001b[0m\u001b[0m\n\u001b[1;32m      4\u001b[0m     \u001b[0;32mbreak\u001b[0m\u001b[0;34m\u001b[0m\u001b[0;34m\u001b[0m\u001b[0m\n",
      "\u001b[0;32m/opt/conda/lib/python3.8/site-packages/torch/utils/data/dataloader.py\u001b[0m in \u001b[0;36m__next__\u001b[0;34m(self)\u001b[0m\n\u001b[1;32m    519\u001b[0m             \u001b[0;32mif\u001b[0m \u001b[0mself\u001b[0m\u001b[0;34m.\u001b[0m\u001b[0m_sampler_iter\u001b[0m \u001b[0;32mis\u001b[0m \u001b[0;32mNone\u001b[0m\u001b[0;34m:\u001b[0m\u001b[0;34m\u001b[0m\u001b[0;34m\u001b[0m\u001b[0m\n\u001b[1;32m    520\u001b[0m                 \u001b[0mself\u001b[0m\u001b[0;34m.\u001b[0m\u001b[0m_reset\u001b[0m\u001b[0;34m(\u001b[0m\u001b[0;34m)\u001b[0m\u001b[0;34m\u001b[0m\u001b[0;34m\u001b[0m\u001b[0m\n\u001b[0;32m--> 521\u001b[0;31m             \u001b[0mdata\u001b[0m \u001b[0;34m=\u001b[0m \u001b[0mself\u001b[0m\u001b[0;34m.\u001b[0m\u001b[0m_next_data\u001b[0m\u001b[0;34m(\u001b[0m\u001b[0;34m)\u001b[0m\u001b[0;34m\u001b[0m\u001b[0;34m\u001b[0m\u001b[0m\n\u001b[0m\u001b[1;32m    522\u001b[0m             \u001b[0mself\u001b[0m\u001b[0;34m.\u001b[0m\u001b[0m_num_yielded\u001b[0m \u001b[0;34m+=\u001b[0m \u001b[0;36m1\u001b[0m\u001b[0;34m\u001b[0m\u001b[0;34m\u001b[0m\u001b[0m\n\u001b[1;32m    523\u001b[0m             \u001b[0;32mif\u001b[0m \u001b[0mself\u001b[0m\u001b[0;34m.\u001b[0m\u001b[0m_dataset_kind\u001b[0m \u001b[0;34m==\u001b[0m \u001b[0m_DatasetKind\u001b[0m\u001b[0;34m.\u001b[0m\u001b[0mIterable\u001b[0m \u001b[0;32mand\u001b[0m\u001b[0;31m \u001b[0m\u001b[0;31m\\\u001b[0m\u001b[0;34m\u001b[0m\u001b[0;34m\u001b[0m\u001b[0m\n",
      "\u001b[0;32m/opt/conda/lib/python3.8/site-packages/torch/utils/data/dataloader.py\u001b[0m in \u001b[0;36m_next_data\u001b[0;34m(self)\u001b[0m\n\u001b[1;32m    559\u001b[0m     \u001b[0;32mdef\u001b[0m \u001b[0m_next_data\u001b[0m\u001b[0;34m(\u001b[0m\u001b[0mself\u001b[0m\u001b[0;34m)\u001b[0m\u001b[0;34m:\u001b[0m\u001b[0;34m\u001b[0m\u001b[0;34m\u001b[0m\u001b[0m\n\u001b[1;32m    560\u001b[0m         \u001b[0mindex\u001b[0m \u001b[0;34m=\u001b[0m \u001b[0mself\u001b[0m\u001b[0;34m.\u001b[0m\u001b[0m_next_index\u001b[0m\u001b[0;34m(\u001b[0m\u001b[0;34m)\u001b[0m  \u001b[0;31m# may raise StopIteration\u001b[0m\u001b[0;34m\u001b[0m\u001b[0;34m\u001b[0m\u001b[0m\n\u001b[0;32m--> 561\u001b[0;31m         \u001b[0mdata\u001b[0m \u001b[0;34m=\u001b[0m \u001b[0mself\u001b[0m\u001b[0;34m.\u001b[0m\u001b[0m_dataset_fetcher\u001b[0m\u001b[0;34m.\u001b[0m\u001b[0mfetch\u001b[0m\u001b[0;34m(\u001b[0m\u001b[0mindex\u001b[0m\u001b[0;34m)\u001b[0m  \u001b[0;31m# may raise StopIteration\u001b[0m\u001b[0;34m\u001b[0m\u001b[0;34m\u001b[0m\u001b[0m\n\u001b[0m\u001b[1;32m    562\u001b[0m         \u001b[0;32mif\u001b[0m \u001b[0mself\u001b[0m\u001b[0;34m.\u001b[0m\u001b[0m_pin_memory\u001b[0m\u001b[0;34m:\u001b[0m\u001b[0;34m\u001b[0m\u001b[0;34m\u001b[0m\u001b[0m\n\u001b[1;32m    563\u001b[0m             \u001b[0mdata\u001b[0m \u001b[0;34m=\u001b[0m \u001b[0m_utils\u001b[0m\u001b[0;34m.\u001b[0m\u001b[0mpin_memory\u001b[0m\u001b[0;34m.\u001b[0m\u001b[0mpin_memory\u001b[0m\u001b[0;34m(\u001b[0m\u001b[0mdata\u001b[0m\u001b[0;34m)\u001b[0m\u001b[0;34m\u001b[0m\u001b[0;34m\u001b[0m\u001b[0m\n",
      "\u001b[0;32m/opt/conda/lib/python3.8/site-packages/torch/utils/data/_utils/fetch.py\u001b[0m in \u001b[0;36mfetch\u001b[0;34m(self, possibly_batched_index)\u001b[0m\n\u001b[1;32m     47\u001b[0m     \u001b[0;32mdef\u001b[0m \u001b[0mfetch\u001b[0m\u001b[0;34m(\u001b[0m\u001b[0mself\u001b[0m\u001b[0;34m,\u001b[0m \u001b[0mpossibly_batched_index\u001b[0m\u001b[0;34m)\u001b[0m\u001b[0;34m:\u001b[0m\u001b[0;34m\u001b[0m\u001b[0;34m\u001b[0m\u001b[0m\n\u001b[1;32m     48\u001b[0m         \u001b[0;32mif\u001b[0m \u001b[0mself\u001b[0m\u001b[0;34m.\u001b[0m\u001b[0mauto_collation\u001b[0m\u001b[0;34m:\u001b[0m\u001b[0;34m\u001b[0m\u001b[0;34m\u001b[0m\u001b[0m\n\u001b[0;32m---> 49\u001b[0;31m             \u001b[0mdata\u001b[0m \u001b[0;34m=\u001b[0m \u001b[0;34m[\u001b[0m\u001b[0mself\u001b[0m\u001b[0;34m.\u001b[0m\u001b[0mdataset\u001b[0m\u001b[0;34m[\u001b[0m\u001b[0midx\u001b[0m\u001b[0;34m]\u001b[0m \u001b[0;32mfor\u001b[0m \u001b[0midx\u001b[0m \u001b[0;32min\u001b[0m \u001b[0mpossibly_batched_index\u001b[0m\u001b[0;34m]\u001b[0m\u001b[0;34m\u001b[0m\u001b[0;34m\u001b[0m\u001b[0m\n\u001b[0m\u001b[1;32m     50\u001b[0m         \u001b[0;32melse\u001b[0m\u001b[0;34m:\u001b[0m\u001b[0;34m\u001b[0m\u001b[0;34m\u001b[0m\u001b[0m\n\u001b[1;32m     51\u001b[0m             \u001b[0mdata\u001b[0m \u001b[0;34m=\u001b[0m \u001b[0mself\u001b[0m\u001b[0;34m.\u001b[0m\u001b[0mdataset\u001b[0m\u001b[0;34m[\u001b[0m\u001b[0mpossibly_batched_index\u001b[0m\u001b[0;34m]\u001b[0m\u001b[0;34m\u001b[0m\u001b[0;34m\u001b[0m\u001b[0m\n",
      "\u001b[0;32m/opt/conda/lib/python3.8/site-packages/torch/utils/data/_utils/fetch.py\u001b[0m in \u001b[0;36m<listcomp>\u001b[0;34m(.0)\u001b[0m\n\u001b[1;32m     47\u001b[0m     \u001b[0;32mdef\u001b[0m \u001b[0mfetch\u001b[0m\u001b[0;34m(\u001b[0m\u001b[0mself\u001b[0m\u001b[0;34m,\u001b[0m \u001b[0mpossibly_batched_index\u001b[0m\u001b[0;34m)\u001b[0m\u001b[0;34m:\u001b[0m\u001b[0;34m\u001b[0m\u001b[0;34m\u001b[0m\u001b[0m\n\u001b[1;32m     48\u001b[0m         \u001b[0;32mif\u001b[0m \u001b[0mself\u001b[0m\u001b[0;34m.\u001b[0m\u001b[0mauto_collation\u001b[0m\u001b[0;34m:\u001b[0m\u001b[0;34m\u001b[0m\u001b[0;34m\u001b[0m\u001b[0m\n\u001b[0;32m---> 49\u001b[0;31m             \u001b[0mdata\u001b[0m \u001b[0;34m=\u001b[0m \u001b[0;34m[\u001b[0m\u001b[0mself\u001b[0m\u001b[0;34m.\u001b[0m\u001b[0mdataset\u001b[0m\u001b[0;34m[\u001b[0m\u001b[0midx\u001b[0m\u001b[0;34m]\u001b[0m \u001b[0;32mfor\u001b[0m \u001b[0midx\u001b[0m \u001b[0;32min\u001b[0m \u001b[0mpossibly_batched_index\u001b[0m\u001b[0;34m]\u001b[0m\u001b[0;34m\u001b[0m\u001b[0;34m\u001b[0m\u001b[0m\n\u001b[0m\u001b[1;32m     50\u001b[0m         \u001b[0;32melse\u001b[0m\u001b[0;34m:\u001b[0m\u001b[0;34m\u001b[0m\u001b[0;34m\u001b[0m\u001b[0m\n\u001b[1;32m     51\u001b[0m             \u001b[0mdata\u001b[0m \u001b[0;34m=\u001b[0m \u001b[0mself\u001b[0m\u001b[0;34m.\u001b[0m\u001b[0mdataset\u001b[0m\u001b[0;34m[\u001b[0m\u001b[0mpossibly_batched_index\u001b[0m\u001b[0;34m]\u001b[0m\u001b[0;34m\u001b[0m\u001b[0;34m\u001b[0m\u001b[0m\n",
      "\u001b[0;32m/workspace/TITAN/Unrolled-TITAN/TITAN_Unrolled/data.py\u001b[0m in \u001b[0;36m__getitem__\u001b[0;34m(self, idx)\u001b[0m\n\u001b[1;32m     24\u001b[0m     \u001b[0;32mdef\u001b[0m \u001b[0m__getitem__\u001b[0m\u001b[0;34m(\u001b[0m\u001b[0mself\u001b[0m\u001b[0;34m,\u001b[0m \u001b[0midx\u001b[0m\u001b[0;34m)\u001b[0m\u001b[0;34m:\u001b[0m\u001b[0;34m\u001b[0m\u001b[0;34m\u001b[0m\u001b[0m\n\u001b[1;32m     25\u001b[0m \u001b[0;34m\u001b[0m\u001b[0m\n\u001b[0;32m---> 26\u001b[0;31m         \u001b[0mX_A_file\u001b[0m \u001b[0;34m=\u001b[0m \u001b[0mos\u001b[0m\u001b[0;34m.\u001b[0m\u001b[0mpath\u001b[0m\u001b[0;34m.\u001b[0m\u001b[0mjoin\u001b[0m\u001b[0;34m(\u001b[0m\u001b[0mself\u001b[0m\u001b[0;34m.\u001b[0m\u001b[0mpath\u001b[0m\u001b[0;34m,\u001b[0m \u001b[0mself\u001b[0m\u001b[0;34m.\u001b[0m\u001b[0mdata_files\u001b[0m\u001b[0;34m[\u001b[0m\u001b[0midx\u001b[0m\u001b[0;34m]\u001b[0m\u001b[0;34m)\u001b[0m\u001b[0;34m\u001b[0m\u001b[0;34m\u001b[0m\u001b[0m\n\u001b[0m\u001b[1;32m     27\u001b[0m         \u001b[0mprint\u001b[0m\u001b[0;34m(\u001b[0m\u001b[0;34m\"X_A_file: \"\u001b[0m\u001b[0;34m,\u001b[0m \u001b[0mX_A_file\u001b[0m\u001b[0;34m)\u001b[0m\u001b[0;34m\u001b[0m\u001b[0;34m\u001b[0m\u001b[0m\n\u001b[1;32m     28\u001b[0m         \u001b[0mX_A_item\u001b[0m \u001b[0;34m=\u001b[0m \u001b[0mtorch\u001b[0m\u001b[0;34m.\u001b[0m\u001b[0mload\u001b[0m\u001b[0;34m(\u001b[0m\u001b[0mX_A_file\u001b[0m\u001b[0;34m)\u001b[0m\u001b[0;34m\u001b[0m\u001b[0;34m\u001b[0m\u001b[0m\n",
      "\u001b[0;31mIndexError\u001b[0m: list index out of range"
     ]
    }
   ],
   "source": [
    "for i, minibatch in enumerate(train_loader):\n",
    "    print(i)\n",
    "    print(minibatch)\n",
    "    break"
   ]
  },
  {
   "cell_type": "code",
   "execution_count": 47,
   "metadata": {},
   "outputs": [
    {
     "name": "stdout",
     "output_type": "stream",
     "text": [
      "X_A_file:  /workspace/TITAN/Unrolled-TITAN/TITAN_Unrolled/Datasets/train/K_2_N_3/X_A_15.pt\n",
      "X_A_item: (tensor([[[-0.8887,  0.6200],\n",
      "         [-0.3165, -1.1356],\n",
      "         [ 1.7150,  0.1094],\n",
      "         ...,\n",
      "         [-0.8613,  1.8470],\n",
      "         [ 1.0364, -0.8503],\n",
      "         [ 1.4469, -0.6369]],\n",
      "\n",
      "        [[-1.6247, -0.0263],\n",
      "         [-1.8629,  0.6149],\n",
      "         [ 1.6266,  0.5973],\n",
      "         ...,\n",
      "         [ 1.1579,  0.1512],\n",
      "         [-1.2259,  0.3307],\n",
      "         [ 0.6852,  0.1613]],\n",
      "\n",
      "        [[-0.2741, -0.3027],\n",
      "         [ 0.1384,  0.4872],\n",
      "         [ 0.3457,  0.2498],\n",
      "         ...,\n",
      "         [-0.8162, -1.0200],\n",
      "         [ 0.4903,  0.5903],\n",
      "         [ 0.5783,  1.2719]]], device='cuda:0'), tensor([[[ 0.3656,  0.5224],\n",
      "         [ 0.3276, -0.3248],\n",
      "         [ 0.7994, -0.7614]],\n",
      "\n",
      "        [[ 0.8851,  0.7395],\n",
      "         [-0.2699, -0.0498],\n",
      "         [-0.2348,  0.6117]],\n",
      "\n",
      "        [[-0.1538, -0.2289],\n",
      "         [-0.7553, -0.9211],\n",
      "         [ 0.4453,  0.2488]]], device='cuda:0'))\n"
     ]
    },
    {
     "data": {
      "text/plain": [
       "(tensor([[[-0.8887,  0.6200],\n",
       "          [-0.3165, -1.1356],\n",
       "          [ 1.7150,  0.1094],\n",
       "          ...,\n",
       "          [-0.8613,  1.8470],\n",
       "          [ 1.0364, -0.8503],\n",
       "          [ 1.4469, -0.6369]],\n",
       " \n",
       "         [[-1.6247, -0.0263],\n",
       "          [-1.8629,  0.6149],\n",
       "          [ 1.6266,  0.5973],\n",
       "          ...,\n",
       "          [ 1.1579,  0.1512],\n",
       "          [-1.2259,  0.3307],\n",
       "          [ 0.6852,  0.1613]],\n",
       " \n",
       "         [[-0.2741, -0.3027],\n",
       "          [ 0.1384,  0.4872],\n",
       "          [ 0.3457,  0.2498],\n",
       "          ...,\n",
       "          [-0.8162, -1.0200],\n",
       "          [ 0.4903,  0.5903],\n",
       "          [ 0.5783,  1.2719]]], device='cuda:0'),\n",
       " tensor([[[ 0.3656,  0.5224],\n",
       "          [ 0.3276, -0.3248],\n",
       "          [ 0.7994, -0.7614]],\n",
       " \n",
       "         [[ 0.8851,  0.7395],\n",
       "          [-0.2699, -0.0498],\n",
       "          [-0.2348,  0.6117]],\n",
       " \n",
       "         [[-0.1538, -0.2289],\n",
       "          [-0.7553, -0.9211],\n",
       "          [ 0.4453,  0.2488]]], device='cuda:0'))"
      ]
     },
     "execution_count": 47,
     "metadata": {},
     "output_type": "execute_result"
    }
   ],
   "source": [
    "train_data.__getitem__(19)"
   ]
  },
  {
   "cell_type": "code",
   "execution_count": 13,
   "metadata": {},
   "outputs": [
    {
     "data": {
      "text/plain": [
       "(tensor([[[ 0.1286,  1.3134],\n",
       "          [ 1.8020,  1.5249],\n",
       "          [ 0.5853,  0.4089],\n",
       "          ...,\n",
       "          [ 0.5498, -0.6199],\n",
       "          [ 2.3009,  1.1421],\n",
       "          [-2.8176, -3.8359]],\n",
       " \n",
       "         [[ 0.8670, -0.6903],\n",
       "          [-0.1201, -0.5486],\n",
       "          [-1.1090, -0.7122],\n",
       "          ...,\n",
       "          [-2.5448, -0.1329],\n",
       "          [ 0.5270, -0.7207],\n",
       "          [ 0.5625,  0.0045]],\n",
       " \n",
       "         [[-0.3395, -1.2509],\n",
       "          [-0.6506, -0.6952],\n",
       "          [ 0.8248,  1.3844],\n",
       "          ...,\n",
       "          [ 0.5905,  0.1878],\n",
       "          [-0.8695, -0.0417],\n",
       "          [-0.2823,  1.6991]]], device='cuda:0'),\n",
       " tensor([[[ 0.2392,  0.0903],\n",
       "          [-0.6304, -0.2377],\n",
       "          [-0.6985, -0.9668]],\n",
       " \n",
       "         [[ 0.6419,  0.3151],\n",
       "          [ 0.7137,  0.9532],\n",
       "          [-0.3027, -0.1853]],\n",
       " \n",
       "         [[-0.6713, -0.8504],\n",
       "          [ 0.4549,  0.3305],\n",
       "          [-0.5119, -0.1708]]], device='cuda:0'))"
      ]
     },
     "execution_count": 13,
     "metadata": {},
     "output_type": "execute_result"
    }
   ],
   "source": [
    "torch.load('/workspace/TITAN/Unrolled-TITAN/TITAN_Unrolled/Datasets/val/K_2_N_3/X_A_0.pt')"
   ]
  },
  {
   "cell_type": "code",
   "execution_count": 5,
   "metadata": {},
   "outputs": [],
   "source": [
    "X_A = torch.load('/workspace/TITAN/Unrolled-TITAN/TITAN_Unrolled/X_test1.pt')\n",
    "A = torch.load('/workspace/TITAN/Unrolled-TITAN/TITAN_Unrolled/A_test2.pt')\n"
   ]
  },
  {
   "cell_type": "code",
   "execution_count": 5,
   "metadata": {},
   "outputs": [
    {
     "ename": "NameError",
     "evalue": "name 'X' is not defined",
     "output_type": "error",
     "traceback": [
      "\u001b[0;31m---------------------------------------------------------------------------\u001b[0m",
      "\u001b[0;31mNameError\u001b[0m                                 Traceback (most recent call last)",
      "\u001b[0;32m/tmp/ipykernel_71362/2119186391.py\u001b[0m in \u001b[0;36m<module>\u001b[0;34m\u001b[0m\n\u001b[1;32m      2\u001b[0m \u001b[0mCinit\u001b[0m \u001b[0;34m=\u001b[0m \u001b[0mtorch\u001b[0m\u001b[0;34m.\u001b[0m\u001b[0mload\u001b[0m\u001b[0;34m(\u001b[0m\u001b[0;34m'Cinit.pt'\u001b[0m\u001b[0;34m)\u001b[0m\u001b[0;34m\u001b[0m\u001b[0;34m\u001b[0m\u001b[0m\n\u001b[1;32m      3\u001b[0m \u001b[0;34m\u001b[0m\u001b[0m\n\u001b[0;32m----> 4\u001b[0;31m \u001b[0mX\u001b[0m \u001b[0;34m=\u001b[0m \u001b[0mX\u001b[0m\u001b[0;34m.\u001b[0m\u001b[0munsqueeze\u001b[0m\u001b[0;34m(\u001b[0m\u001b[0;36m0\u001b[0m\u001b[0;34m)\u001b[0m\u001b[0;34m\u001b[0m\u001b[0;34m\u001b[0m\u001b[0m\n\u001b[0m\u001b[1;32m      5\u001b[0m \u001b[0mA\u001b[0m \u001b[0;34m=\u001b[0m \u001b[0mA\u001b[0m\u001b[0;34m.\u001b[0m\u001b[0munsqueeze\u001b[0m\u001b[0;34m(\u001b[0m\u001b[0;36m0\u001b[0m\u001b[0;34m)\u001b[0m\u001b[0;34m\u001b[0m\u001b[0;34m\u001b[0m\u001b[0m\n\u001b[1;32m      6\u001b[0m \u001b[0mWinit\u001b[0m \u001b[0;34m=\u001b[0m \u001b[0mWinit\u001b[0m\u001b[0;34m.\u001b[0m\u001b[0munsqueeze\u001b[0m\u001b[0;34m(\u001b[0m\u001b[0;36m0\u001b[0m\u001b[0;34m)\u001b[0m\u001b[0;34m\u001b[0m\u001b[0;34m\u001b[0m\u001b[0m\n",
      "\u001b[0;31mNameError\u001b[0m: name 'X' is not defined"
     ]
    }
   ],
   "source": [
    "Winit = torch.load('Winit.pt')\n",
    "Cinit = torch.load('Cinit.pt')\n",
    "\n",
    "X = X.unsqueeze(0)\n",
    "A = A.unsqueeze(0)\n",
    "Winit = Winit.unsqueeze(0)\n",
    "Cinit = Cinit.unsqueeze(0)"
   ]
  },
  {
   "cell_type": "code",
   "execution_count": 6,
   "metadata": {},
   "outputs": [
    {
     "data": {
      "text/plain": [
       "tensor([[[-1.2570,  0.9512],\n",
       "         [-0.2351, -0.4852],\n",
       "         [-2.0252, -0.7628],\n",
       "         ...,\n",
       "         [ 0.0675,  0.5807],\n",
       "         [ 1.0225,  1.4214],\n",
       "         [ 1.5021, -0.9088]],\n",
       "\n",
       "        [[-1.3847,  0.3959],\n",
       "         [ 0.2829,  0.1645],\n",
       "         [ 2.3373,  1.3782],\n",
       "         ...,\n",
       "         [-1.4743, -0.3040],\n",
       "         [ 0.2067,  0.1120],\n",
       "         [ 0.1923, -1.1541]],\n",
       "\n",
       "        [[-0.3822,  1.1867],\n",
       "         [ 0.0769,  0.6336],\n",
       "         [ 0.7086, -0.3182],\n",
       "         ...,\n",
       "         [ 0.1473, -0.2113],\n",
       "         [ 0.1956,  0.1571],\n",
       "         [-0.6357, -1.9089]]], device='cuda:0')"
      ]
     },
     "execution_count": 6,
     "metadata": {},
     "output_type": "execute_result"
    }
   ],
   "source": [
    "X\n"
   ]
  },
  {
   "cell_type": "code",
   "execution_count": 7,
   "metadata": {},
   "outputs": [],
   "source": [
    "X = X.unsqueeze(0)\n",
    "A = A.unsqueeze(0)"
   ]
  },
  {
   "cell_type": "code",
   "execution_count": 8,
   "metadata": {},
   "outputs": [],
   "source": [
    "input_dim = None\n",
    "N_updates_W = 10\n",
    "N_updates_C = 1\n",
    "num_layers = 200\n",
    "mode = 'end-to-end'\n",
    "model = myModel(input_dim, N_updates_W, N_updates_C, num_layers=num_layers, gamma_c=gamma_c, gamma_w=gamma_w, eps=eps, nu=nu, zeta=zeta,B=1).cuda()"
   ]
  },
  {
   "cell_type": "code",
   "execution_count": 9,
   "metadata": {},
   "outputs": [],
   "source": [
    "W_predicted,_ = model(X,A,mode)"
   ]
  },
  {
   "cell_type": "code",
   "execution_count": 10,
   "metadata": {},
   "outputs": [
    {
     "data": {
      "text/plain": [
       "tensor([[[[-0.1661, -1.0863],\n",
       "          [-0.9151, -0.4016],\n",
       "          [-0.6952, -0.0837]],\n",
       "\n",
       "         [[-0.4319, -0.0690],\n",
       "          [-0.5120,  0.3845],\n",
       "          [ 0.7771, -0.9487]],\n",
       "\n",
       "         [[ 1.1706, -0.4533],\n",
       "          [-0.4709,  1.1241],\n",
       "          [ 0.3402,  0.4885]]]], device='cuda:0', grad_fn=<PermuteBackward0>)"
      ]
     },
     "execution_count": 10,
     "metadata": {},
     "output_type": "execute_result"
    }
   ],
   "source": [
    "W_predicted"
   ]
  },
  {
   "cell_type": "code",
   "execution_count": 11,
   "metadata": {},
   "outputs": [
    {
     "data": {
      "text/plain": [
       "tensor(0.4018, device='cuda:0', grad_fn=<DivBackward0>)"
      ]
     },
     "execution_count": 11,
     "metadata": {},
     "output_type": "execute_result"
    }
   ],
   "source": [
    "joint_isi(W_predicted[0], A[0])"
   ]
  },
  {
   "cell_type": "code",
   "execution_count": 12,
   "metadata": {},
   "outputs": [],
   "source": [
    "alpha = torch.ones(1).cuda()"
   ]
  },
  {
   "cell_type": "code",
   "execution_count": 30,
   "metadata": {},
   "outputs": [
    {
     "data": {
      "text/plain": [
       "tensor([1.], device='cuda:0')"
      ]
     },
     "execution_count": 30,
     "metadata": {},
     "output_type": "execute_result"
    }
   ],
   "source": [
    "alpha"
   ]
  },
  {
   "cell_type": "code",
   "execution_count": 14,
   "metadata": {},
   "outputs": [],
   "source": [
    "coefficients = model.Layers[0].get_coefficients(cov_X(X),alpha,Cinit,Cinit)"
   ]
  },
  {
   "cell_type": "code",
   "execution_count": 15,
   "metadata": {},
   "outputs": [],
   "source": [
    "c_w,_,_,_ = coefficients"
   ]
  },
  {
   "cell_type": "code",
   "execution_count": 19,
   "metadata": {},
   "outputs": [
    {
     "data": {
      "text/plain": [
       "tensor([0.3007], device='cuda:0')"
      ]
     },
     "execution_count": 19,
     "metadata": {},
     "output_type": "execute_result"
    }
   ],
   "source": [
    "c_w"
   ]
  },
  {
   "cell_type": "code",
   "execution_count": 17,
   "metadata": {},
   "outputs": [
    {
     "name": "stdout",
     "output_type": "stream",
     "text": [
      "s size:  torch.Size([1, 2, 3])\n",
      "c_w size:  torch.Size([1])\n"
     ]
    },
    {
     "data": {
      "text/plain": [
       "tensor([[[[-0.1669,  0.9339],\n",
       "          [-0.8453, -0.3444],\n",
       "          [-0.7064,  0.6432]],\n",
       "\n",
       "         [[-1.1260, -0.6793],\n",
       "          [-0.0342, -1.1951],\n",
       "          [ 0.1469,  0.2841]],\n",
       "\n",
       "         [[-0.4657, -0.4355],\n",
       "          [-0.5456,  1.9536],\n",
       "          [ 0.7955,  0.2445]]]], device='cuda:0')"
      ]
     },
     "execution_count": 17,
     "metadata": {},
     "output_type": "execute_result"
    }
   ],
   "source": [
    "prox_f(Winit,c_w)"
   ]
  },
  {
   "cell_type": "code",
   "execution_count": 65,
   "metadata": {},
   "outputs": [
    {
     "data": {
      "text/plain": [
       "tensor([[[[ 0.6111,  0.6240],\n",
       "          [ 0.8011, -0.6099],\n",
       "          [ 0.1041,  0.4855]],\n",
       "\n",
       "         [[-0.6772,  0.7226],\n",
       "          [ 0.4255,  0.6575],\n",
       "          [ 0.5905, -0.1225]],\n",
       "\n",
       "         [[ 0.4432, -0.2338],\n",
       "          [-0.4260,  0.4354],\n",
       "          [ 0.8176,  0.8540]]]], device='cuda:0')"
      ]
     },
     "execution_count": 65,
     "metadata": {},
     "output_type": "execute_result"
    }
   ],
   "source": [
    "A"
   ]
  },
  {
   "cell_type": "code",
   "execution_count": 5,
   "metadata": {},
   "outputs": [],
   "source": [
    "lambda_1 = 0.04\n",
    "lambda_2 = 0.25\n",
    "rho_bounds_1 = [0.2,0.3]\n",
    "rho_bounds_2 = [0.6,0.7]\n",
    "rhos = [rho_bounds_1,rho_bounds_2]\n",
    "lambdas = [lambda_1,lambda_2]\n",
    "\n",
    "metaparameters_multiparam = get_metaparameters(rhos,lambdas)\n",
    "metaparameters_titles_multiparam = ['Case A','Case B','Case C','Case D']\n",
    "\n",
    "\n",
    "X,A = generate_whitened_problem(T,K,N,epsilon=1,rho_bounds=rho_bounds_2,lambda_=lambda_1)\n",
    "Winit = make_A(K,N)\n",
    "Cinit = make_Sigma(K,N,rank=K+10)\n"
   ]
  },
  {
   "cell_type": "code",
   "execution_count": 8,
   "metadata": {},
   "outputs": [],
   "source": [
    "X = X.unsqueeze(0)\n",
    "A = A.unsqueeze(0)\n",
    "Winit = Winit.unsqueeze(0)\n",
    "Cinit = Cinit.unsqueeze(0)\n"
   ]
  },
  {
   "cell_type": "code",
   "execution_count": null,
   "metadata": {},
   "outputs": [],
   "source": []
  },
  {
   "cell_type": "code",
   "execution_count": 52,
   "metadata": {},
   "outputs": [
    {
     "name": "stdout",
     "output_type": "stream",
     "text": [
      "Total GPU memory: 34089730048\n",
      "Reserved GPU memory: 2097152\n",
      "Allocated GPU memory: 448000\n"
     ]
    }
   ],
   "source": [
    "print(f\"Total GPU memory: {torch.cuda.get_device_properties(0).total_memory}\")\n",
    "print(f\"Reserved GPU memory: {torch.cuda.memory_reserved()}\")\n",
    "print(f\"Allocated GPU memory: {torch.cuda.memory_allocated()}\")\n"
   ]
  },
  {
   "cell_type": "code",
   "execution_count": 55,
   "metadata": {},
   "outputs": [
    {
     "name": "stdout",
     "output_type": "stream",
     "text": [
      "PyTorch version: 1.11.0a0+bfe5ad2\n",
      "CUDA available: True\n",
      "CUDA version: 11.6\n",
      "CUDA device count: 1\n"
     ]
    }
   ],
   "source": [
    "import torch\n",
    "print(\"PyTorch version:\", torch.__version__)\n",
    "print(\"CUDA available:\", torch.cuda.is_available())\n",
    "print(\"CUDA version:\", torch.version.cuda)\n",
    "print(\"CUDA device count:\", torch.cuda.device_count())\n",
    "\n"
   ]
  },
  {
   "cell_type": "code",
   "execution_count": 3,
   "metadata": {},
   "outputs": [],
   "source": [
    "Cinit\n",
    "c = 1\n",
    "eps = 1e-3"
   ]
  },
  {
   "cell_type": "code",
   "execution_count": 24,
   "metadata": {},
   "outputs": [],
   "source": [
    "C_perm = Cinit.permute(2, 0, 1)\n",
    "s,U = torch.linalg.eigh(C_perm)\n",
    "Vh = U.permute(0, 2, 1)\n",
    "s_new = torch.maximum(torch.tensor(eps), (s + torch.sqrt(s**2 + 2 * c)) / 2)\n",
    "# s_new = (s + np.sqrt(s**2+2*c_c))/2\n",
    "diag_s = torch.diag_embed(s_new)  \n",
    "C_new = torch.einsum('nNv,nvw,nwM -> nNM',U,diag_s,Vh)"
   ]
  },
  {
   "cell_type": "code",
   "execution_count": 25,
   "metadata": {},
   "outputs": [
    {
     "data": {
      "text/plain": [
       "tensor([[[1.3390, 0.3693],\n",
       "         [0.3693, 1.4140]],\n",
       "\n",
       "        [[1.4232, 0.4589],\n",
       "         [0.4589, 1.3981]],\n",
       "\n",
       "        [[1.3876, 0.5028],\n",
       "         [0.5028, 1.2744]]], device='cuda:0')"
      ]
     },
     "execution_count": 25,
     "metadata": {},
     "output_type": "execute_result"
    }
   ],
   "source": [
    "C_new"
   ]
  },
  {
   "cell_type": "code",
   "execution_count": 33,
   "metadata": {},
   "outputs": [],
   "source": [
    "C_perm = Cinit_batch.permute(0, 3, 1, 2)  # (batch, last_dim, height, width)\n",
    "s, U = torch.linalg.eigh(C_perm)\n",
    "Vh = U.transpose(-1, -2)\n",
    "# Calculate the new singular values\n",
    "s_new = torch.maximum(torch.tensor(eps), (s + torch.sqrt(s**2 + 2 * c)) / 2)\n",
    "diag_s = torch.diag_embed(s_new)\n",
    "\n",
    "# Reconstruct the matrix with the new singular values\n",
    "C_new = torch.einsum('bnNv,bnvw,bnwM -> bnNM',U,diag_s,Vh)"
   ]
  },
  {
   "cell_type": "code",
   "execution_count": 35,
   "metadata": {},
   "outputs": [
    {
     "data": {
      "text/plain": [
       "tensor([[[[0.9366, 1.0303, 0.9671],\n",
       "          [0.4744, 0.5879, 0.6687]],\n",
       "\n",
       "         [[0.4744, 0.5879, 0.6687],\n",
       "          [1.0329, 0.9981, 0.8166]]]], device='cuda:0')"
      ]
     },
     "execution_count": 35,
     "metadata": {},
     "output_type": "execute_result"
    }
   ],
   "source": [
    "Cinit_batch"
   ]
  },
  {
   "cell_type": "code",
   "execution_count": 37,
   "metadata": {},
   "outputs": [
    {
     "data": {
      "text/plain": [
       "tensor([[[[0.9366, 0.4744],\n",
       "          [0.4744, 1.0329]],\n",
       "\n",
       "         [[1.0303, 0.5879],\n",
       "          [0.5879, 0.9981]],\n",
       "\n",
       "         [[0.9671, 0.6687],\n",
       "          [0.6687, 0.8166]]]], device='cuda:0')"
      ]
     },
     "execution_count": 37,
     "metadata": {},
     "output_type": "execute_result"
    }
   ],
   "source": [
    "C_perm"
   ]
  },
  {
   "cell_type": "code",
   "execution_count": 109,
   "metadata": {},
   "outputs": [
    {
     "ename": "RuntimeError",
     "evalue": "The size of tensor a (2) must match the size of tensor b (3) at non-singleton dimension 1",
     "output_type": "error",
     "traceback": [
      "\u001b[0;31m---------------------------------------------------------------------------\u001b[0m",
      "\u001b[0;31mRuntimeError\u001b[0m                              Traceback (most recent call last)",
      "\u001b[0;32m/tmp/ipykernel_80763/1098674122.py\u001b[0m in \u001b[0;36m<module>\u001b[0;34m\u001b[0m\n\u001b[0;32m----> 1\u001b[0;31m \u001b[0msym\u001b[0m\u001b[0;34m(\u001b[0m\u001b[0mC_new\u001b[0m\u001b[0;34m)\u001b[0m\u001b[0;34m\u001b[0m\u001b[0;34m\u001b[0m\u001b[0m\n\u001b[0m",
      "\u001b[0;32m/workspace/TITAN/Unrolled-TITAN/TITAN_Unrolled/tools.py\u001b[0m in \u001b[0;36msym\u001b[0;34m(A)\u001b[0m\n\u001b[1;32m      6\u001b[0m         \u001b[0;32mreturn\u001b[0m \u001b[0;34m(\u001b[0m\u001b[0mA\u001b[0m\u001b[0;34m.\u001b[0m\u001b[0mtranspose\u001b[0m\u001b[0;34m(\u001b[0m\u001b[0;36m0\u001b[0m\u001b[0;34m,\u001b[0m \u001b[0;36m1\u001b[0m\u001b[0;34m)\u001b[0m \u001b[0;34m+\u001b[0m \u001b[0mA\u001b[0m\u001b[0;34m)\u001b[0m \u001b[0;34m/\u001b[0m \u001b[0;36m2\u001b[0m\u001b[0;34m\u001b[0m\u001b[0;34m\u001b[0m\u001b[0m\n\u001b[1;32m      7\u001b[0m     \u001b[0;32melif\u001b[0m \u001b[0mA\u001b[0m\u001b[0;34m.\u001b[0m\u001b[0mndim\u001b[0m \u001b[0;34m==\u001b[0m \u001b[0;36m3\u001b[0m\u001b[0;34m:\u001b[0m\u001b[0;34m\u001b[0m\u001b[0;34m\u001b[0m\u001b[0m\n\u001b[0;32m----> 8\u001b[0;31m         \u001b[0;32mreturn\u001b[0m \u001b[0;34m(\u001b[0m\u001b[0mA\u001b[0m \u001b[0;34m+\u001b[0m \u001b[0mtorch\u001b[0m\u001b[0;34m.\u001b[0m\u001b[0mmoveaxis\u001b[0m\u001b[0;34m(\u001b[0m\u001b[0mA\u001b[0m\u001b[0;34m,\u001b[0m \u001b[0;36m0\u001b[0m\u001b[0;34m,\u001b[0m \u001b[0;36m1\u001b[0m\u001b[0;34m)\u001b[0m\u001b[0;34m)\u001b[0m \u001b[0;34m/\u001b[0m \u001b[0;36m2\u001b[0m\u001b[0;34m\u001b[0m\u001b[0;34m\u001b[0m\u001b[0m\n\u001b[0m\u001b[1;32m      9\u001b[0m     \u001b[0;32melse\u001b[0m\u001b[0;34m:\u001b[0m\u001b[0;34m\u001b[0m\u001b[0;34m\u001b[0m\u001b[0m\n\u001b[1;32m     10\u001b[0m         \u001b[0;32mreturn\u001b[0m \u001b[0;34m(\u001b[0m\u001b[0mA\u001b[0m \u001b[0;34m+\u001b[0m \u001b[0mtorch\u001b[0m\u001b[0;34m.\u001b[0m\u001b[0mmoveaxis\u001b[0m\u001b[0;34m(\u001b[0m\u001b[0mA\u001b[0m\u001b[0;34m,\u001b[0m \u001b[0;36m2\u001b[0m\u001b[0;34m,\u001b[0m \u001b[0;36m3\u001b[0m\u001b[0;34m)\u001b[0m\u001b[0;34m)\u001b[0m \u001b[0;34m/\u001b[0m \u001b[0;36m2\u001b[0m\u001b[0;34m\u001b[0m\u001b[0;34m\u001b[0m\u001b[0m\n",
      "\u001b[0;31mRuntimeError\u001b[0m: The size of tensor a (2) must match the size of tensor b (3) at non-singleton dimension 1"
     ]
    }
   ],
   "source": [
    "sym(C_new)"
   ]
  },
  {
   "cell_type": "code",
   "execution_count": 40,
   "metadata": {},
   "outputs": [
    {
     "ename": "RuntimeError",
     "evalue": "The size of tensor a (3) must match the size of tensor b (2) at non-singleton dimension 3",
     "output_type": "error",
     "traceback": [
      "\u001b[0;31m---------------------------------------------------------------------------\u001b[0m",
      "\u001b[0;31mRuntimeError\u001b[0m                              Traceback (most recent call last)",
      "\u001b[0;32m/tmp/ipykernel_55304/826820779.py\u001b[0m in \u001b[0;36m<module>\u001b[0;34m\u001b[0m\n\u001b[0;32m----> 1\u001b[0;31m \u001b[0mprox_g_batch\u001b[0m\u001b[0;34m(\u001b[0m\u001b[0mCinit_batch\u001b[0m\u001b[0;34m,\u001b[0m \u001b[0mc\u001b[0m\u001b[0;34m,\u001b[0m \u001b[0meps\u001b[0m\u001b[0;34m)\u001b[0m\u001b[0;34m\u001b[0m\u001b[0;34m\u001b[0m\u001b[0m\n\u001b[0m",
      "\u001b[0;32m/workspace/TITAN/Unrolled-TITAN/TITAN_Unrolled/functions.py\u001b[0m in \u001b[0;36mprox_g_batch\u001b[0;34m(C, c_c, eps)\u001b[0m\n\u001b[1;32m     96\u001b[0m     \u001b[0;31m#C_new = C_new.permute(0, 2, 3, 1)  # Permute back to original shape\u001b[0m\u001b[0;34m\u001b[0m\u001b[0;34m\u001b[0m\u001b[0;34m\u001b[0m\u001b[0m\n\u001b[1;32m     97\u001b[0m     \u001b[0;32mreturn\u001b[0m \u001b[0mC_new\u001b[0m\u001b[0;34m\u001b[0m\u001b[0;34m\u001b[0m\u001b[0m\n\u001b[0;32m---> 98\u001b[0;31m \u001b[0;34m\u001b[0m\u001b[0m\n\u001b[0m\u001b[1;32m     99\u001b[0m \u001b[0;34m\u001b[0m\u001b[0m\n\u001b[1;32m    100\u001b[0m \u001b[0;34m\u001b[0m\u001b[0m\n",
      "\u001b[0;32m/workspace/TITAN/Unrolled-TITAN/TITAN_Unrolled/tools.py\u001b[0m in \u001b[0;36msym\u001b[0;34m(A)\u001b[0m\n\u001b[1;32m      8\u001b[0m         \u001b[0;32mreturn\u001b[0m \u001b[0;34m(\u001b[0m\u001b[0mA\u001b[0m \u001b[0;34m+\u001b[0m \u001b[0mtorch\u001b[0m\u001b[0;34m.\u001b[0m\u001b[0mmoveaxis\u001b[0m\u001b[0;34m(\u001b[0m\u001b[0mA\u001b[0m\u001b[0;34m,\u001b[0m \u001b[0;36m1\u001b[0m\u001b[0;34m,\u001b[0m \u001b[0;36m2\u001b[0m\u001b[0;34m)\u001b[0m\u001b[0;34m)\u001b[0m \u001b[0;34m/\u001b[0m \u001b[0;36m2\u001b[0m\u001b[0;34m\u001b[0m\u001b[0;34m\u001b[0m\u001b[0m\n\u001b[1;32m      9\u001b[0m     \u001b[0;32melse\u001b[0m\u001b[0;34m:\u001b[0m\u001b[0;34m\u001b[0m\u001b[0;34m\u001b[0m\u001b[0m\n\u001b[0;32m---> 10\u001b[0;31m         \u001b[0;32mreturn\u001b[0m \u001b[0;34m(\u001b[0m\u001b[0mA\u001b[0m \u001b[0;34m+\u001b[0m \u001b[0mtorch\u001b[0m\u001b[0;34m.\u001b[0m\u001b[0mmoveaxis\u001b[0m\u001b[0;34m(\u001b[0m\u001b[0mA\u001b[0m\u001b[0;34m,\u001b[0m \u001b[0;36m2\u001b[0m\u001b[0;34m,\u001b[0m \u001b[0;36m3\u001b[0m\u001b[0;34m)\u001b[0m\u001b[0;34m)\u001b[0m \u001b[0;34m/\u001b[0m \u001b[0;36m2\u001b[0m\u001b[0;34m\u001b[0m\u001b[0;34m\u001b[0m\u001b[0m\n\u001b[0m\u001b[1;32m     11\u001b[0m \u001b[0;34m\u001b[0m\u001b[0m\n\u001b[1;32m     12\u001b[0m \u001b[0;34m\u001b[0m\u001b[0m\n",
      "\u001b[0;31mRuntimeError\u001b[0m: The size of tensor a (3) must match the size of tensor b (2) at non-singleton dimension 3"
     ]
    }
   ],
   "source": [
    "prox_g_batch(Cinit_batch, c, eps)   "
   ]
  },
  {
   "cell_type": "code",
   "execution_count": 41,
   "metadata": {},
   "outputs": [
    {
     "data": {
      "text/plain": [
       "torch.Size([2, 2, 3])"
      ]
     },
     "execution_count": 41,
     "metadata": {},
     "output_type": "execute_result"
    }
   ],
   "source": [
    "Cinit.shape"
   ]
  },
  {
   "cell_type": "code",
   "execution_count": 46,
   "metadata": {},
   "outputs": [],
   "source": [
    "Cperm = Cinit_batch.permute(0, 3, 1, 2)"
   ]
  },
  {
   "cell_type": "code",
   "execution_count": 67,
   "metadata": {},
   "outputs": [],
   "source": [
    "a,B = torch.linalg.eigh(Cinit.permute(2,0,1))"
   ]
  },
  {
   "cell_type": "code",
   "execution_count": 100,
   "metadata": {},
   "outputs": [],
   "source": [
    "Bh = B.permute(0, 2, 1)\n",
    "a_new = torch.maximum(torch.tensor(eps), (a + torch.sqrt(a**2 + 2 * c)) / 2)\n",
    "# s_new = (s + np.sqrt(s**2+2*c_c))/2\n",
    "diag_s = torch.diag_embed(a_new)  \n",
    "A_new = torch.einsum('nNv,nvw,nwM -> nNM',B,diag_s,Bh)"
   ]
  },
  {
   "cell_type": "code",
   "execution_count": 102,
   "metadata": {},
   "outputs": [
    {
     "data": {
      "text/plain": [
       "tensor([[[1.3390, 1.4232, 1.3876],\n",
       "         [0.3693, 0.4589, 0.5028]],\n",
       "\n",
       "        [[0.3693, 0.4589, 0.5028],\n",
       "         [1.4140, 1.3981, 1.2744]]], device='cuda:0')"
      ]
     },
     "execution_count": 102,
     "metadata": {},
     "output_type": "execute_result"
    }
   ],
   "source": [
    "A_new.permute(1, 2, 0)"
   ]
  },
  {
   "cell_type": "code",
   "execution_count": 69,
   "metadata": {},
   "outputs": [
    {
     "data": {
      "text/plain": [
       "torch.Size([3, 2])"
      ]
     },
     "execution_count": 69,
     "metadata": {},
     "output_type": "execute_result"
    }
   ],
   "source": [
    "a.shape"
   ]
  },
  {
   "cell_type": "code",
   "execution_count": 48,
   "metadata": {},
   "outputs": [],
   "source": [
    "s,U = torch.linalg.eigh(Cperm)"
   ]
  },
  {
   "cell_type": "code",
   "execution_count": 66,
   "metadata": {},
   "outputs": [
    {
     "data": {
      "text/plain": [
       "tensor([[[0.5079, 1.4616],\n",
       "         [0.4261, 1.6024],\n",
       "         [0.2189, 1.5648]]], device='cuda:0')"
      ]
     },
     "execution_count": 66,
     "metadata": {},
     "output_type": "execute_result"
    }
   ],
   "source": [
    "s"
   ]
  },
  {
   "cell_type": "code",
   "execution_count": 76,
   "metadata": {},
   "outputs": [],
   "source": [
    "x = (s + torch.sqrt(s**2 + 2 * c)) / 2"
   ]
  },
  {
   "cell_type": "code",
   "execution_count": 74,
   "metadata": {},
   "outputs": [
    {
     "data": {
      "text/plain": [
       "tensor(0.0010)"
      ]
     },
     "execution_count": 74,
     "metadata": {},
     "output_type": "execute_result"
    }
   ],
   "source": [
    "torch.tensor(eps)"
   ]
  },
  {
   "cell_type": "code",
   "execution_count": 78,
   "metadata": {},
   "outputs": [
    {
     "data": {
      "text/plain": [
       "tensor([[[1.0053, 1.7477],\n",
       "         [0.9515, 1.8698],\n",
       "         [0.8250, 1.8370]]], device='cuda:0')"
      ]
     },
     "execution_count": 78,
     "metadata": {},
     "output_type": "execute_result"
    }
   ],
   "source": [
    "x"
   ]
  },
  {
   "cell_type": "code",
   "execution_count": 83,
   "metadata": {},
   "outputs": [],
   "source": [
    "s_new = torch.maximum(x, torch.tensor(eps))"
   ]
  },
  {
   "cell_type": "code",
   "execution_count": 85,
   "metadata": {},
   "outputs": [
    {
     "data": {
      "text/plain": [
       "tensor([[[1.0053, 1.7477],\n",
       "         [0.9515, 1.8698],\n",
       "         [0.8250, 1.8370]]], device='cuda:0')"
      ]
     },
     "execution_count": 85,
     "metadata": {},
     "output_type": "execute_result"
    }
   ],
   "source": [
    "s_new"
   ]
  },
  {
   "cell_type": "code",
   "execution_count": 90,
   "metadata": {},
   "outputs": [],
   "source": [
    "diag_s = torch.diag_embed(s_new)"
   ]
  },
  {
   "cell_type": "code",
   "execution_count": 86,
   "metadata": {},
   "outputs": [
    {
     "data": {
      "text/plain": [
       "tensor([[[[ 0.7420,  0.6705],\n",
       "          [-0.6705,  0.7420]],\n",
       "\n",
       "         [[-0.6974,  0.7167],\n",
       "          [ 0.7167,  0.6974]],\n",
       "\n",
       "         [[-0.6664,  0.7456],\n",
       "          [ 0.7456,  0.6664]]]], device='cuda:0')"
      ]
     },
     "execution_count": 86,
     "metadata": {},
     "output_type": "execute_result"
    }
   ],
   "source": [
    "U"
   ]
  },
  {
   "cell_type": "code",
   "execution_count": 96,
   "metadata": {},
   "outputs": [],
   "source": [
    "C_new = torch.einsum('bnNv,bnvw,bnwM -> bnNM',U,diag_s,U.transpose(-1,-2))\n"
   ]
  },
  {
   "cell_type": "code",
   "execution_count": 98,
   "metadata": {},
   "outputs": [
    {
     "data": {
      "text/plain": [
       "tensor([[[[1.3390, 0.3693],\n",
       "          [0.3693, 1.4140]],\n",
       "\n",
       "         [[1.4232, 0.4589],\n",
       "          [0.4589, 1.3981]],\n",
       "\n",
       "         [[1.3876, 0.5028],\n",
       "          [0.5028, 1.2744]]]], device='cuda:0')"
      ]
     },
     "execution_count": 98,
     "metadata": {},
     "output_type": "execute_result"
    }
   ],
   "source": [
    "C_new"
   ]
  },
  {
   "cell_type": "code",
   "execution_count": 97,
   "metadata": {},
   "outputs": [
    {
     "data": {
      "text/plain": [
       "tensor([[[[1.3390, 1.4232, 1.3876],\n",
       "          [0.3693, 0.4589, 0.5028]],\n",
       "\n",
       "         [[0.3693, 0.4589, 0.5028],\n",
       "          [1.4140, 1.3981, 1.2744]]]], device='cuda:0')"
      ]
     },
     "execution_count": 97,
     "metadata": {},
     "output_type": "execute_result"
    }
   ],
   "source": [
    "C_new.permute(0, 2, 3, 1)"
   ]
  },
  {
   "cell_type": "code",
   "execution_count": 26,
   "metadata": {},
   "outputs": [
    {
     "data": {
      "text/plain": [
       "tensor([[[1.3390, 0.3693],\n",
       "         [0.3693, 1.4140]],\n",
       "\n",
       "        [[1.4232, 0.4589],\n",
       "         [0.4589, 1.3981]],\n",
       "\n",
       "        [[1.3876, 0.5028],\n",
       "         [0.5028, 1.2744]]], device='cuda:0')"
      ]
     },
     "execution_count": 26,
     "metadata": {},
     "output_type": "execute_result"
    }
   ],
   "source": [
    "prox_g(Cinit, c, eps)"
   ]
  },
  {
   "cell_type": "code",
   "execution_count": null,
   "metadata": {},
   "outputs": [],
   "source": []
  },
  {
   "cell_type": "code",
   "execution_count": 37,
   "metadata": {},
   "outputs": [
    {
     "data": {
      "text/plain": [
       "tensor(0.0486, device='cuda:0', grad_fn=<DivBackward0>)"
      ]
     },
     "execution_count": 37,
     "metadata": {},
     "output_type": "execute_result"
    }
   ],
   "source": [
    "joint_isi(W_predicted,A)"
   ]
  },
  {
   "cell_type": "code",
   "execution_count": 38,
   "metadata": {},
   "outputs": [
    {
     "name": "stdout",
     "output_type": "stream",
     "text": [
      "[Parameter containing:\n",
      "tensor(1., device='cuda:0', requires_grad=True), Parameter containing:\n",
      "tensor(1., device='cuda:0', requires_grad=True), Parameter containing:\n",
      "tensor(1., device='cuda:0', requires_grad=True), Parameter containing:\n",
      "tensor(1., device='cuda:0', requires_grad=True), Parameter containing:\n",
      "tensor(1., device='cuda:0', requires_grad=True), Parameter containing:\n",
      "tensor(1., device='cuda:0', requires_grad=True), Parameter containing:\n",
      "tensor(1., device='cuda:0', requires_grad=True), Parameter containing:\n",
      "tensor(1., device='cuda:0', requires_grad=True), Parameter containing:\n",
      "tensor(1., device='cuda:0', requires_grad=True), Parameter containing:\n",
      "tensor(1., device='cuda:0', requires_grad=True), Parameter containing:\n",
      "tensor(1., device='cuda:0', requires_grad=True), Parameter containing:\n",
      "tensor(1., device='cuda:0', requires_grad=True), Parameter containing:\n",
      "tensor(1., device='cuda:0', requires_grad=True), Parameter containing:\n",
      "tensor(1., device='cuda:0', requires_grad=True), Parameter containing:\n",
      "tensor(1., device='cuda:0', requires_grad=True), Parameter containing:\n",
      "tensor(1., device='cuda:0', requires_grad=True), Parameter containing:\n",
      "tensor(1., device='cuda:0', requires_grad=True), Parameter containing:\n",
      "tensor(1., device='cuda:0', requires_grad=True), Parameter containing:\n",
      "tensor(1., device='cuda:0', requires_grad=True), Parameter containing:\n",
      "tensor(1., device='cuda:0', requires_grad=True), Parameter containing:\n",
      "tensor(1., device='cuda:0', requires_grad=True), Parameter containing:\n",
      "tensor(1., device='cuda:0', requires_grad=True), Parameter containing:\n",
      "tensor(1., device='cuda:0', requires_grad=True), Parameter containing:\n",
      "tensor(1., device='cuda:0', requires_grad=True), Parameter containing:\n",
      "tensor(1., device='cuda:0', requires_grad=True), Parameter containing:\n",
      "tensor(1., device='cuda:0', requires_grad=True), Parameter containing:\n",
      "tensor(1., device='cuda:0', requires_grad=True), Parameter containing:\n",
      "tensor(1., device='cuda:0', requires_grad=True), Parameter containing:\n",
      "tensor(1., device='cuda:0', requires_grad=True), Parameter containing:\n",
      "tensor(1., device='cuda:0', requires_grad=True), Parameter containing:\n",
      "tensor(1., device='cuda:0', requires_grad=True), Parameter containing:\n",
      "tensor(1., device='cuda:0', requires_grad=True), Parameter containing:\n",
      "tensor(1., device='cuda:0', requires_grad=True), Parameter containing:\n",
      "tensor(1., device='cuda:0', requires_grad=True), Parameter containing:\n",
      "tensor(1., device='cuda:0', requires_grad=True), Parameter containing:\n",
      "tensor(1., device='cuda:0', requires_grad=True), Parameter containing:\n",
      "tensor(1., device='cuda:0', requires_grad=True), Parameter containing:\n",
      "tensor(1., device='cuda:0', requires_grad=True), Parameter containing:\n",
      "tensor(1., device='cuda:0', requires_grad=True), Parameter containing:\n",
      "tensor(1., device='cuda:0', requires_grad=True), Parameter containing:\n",
      "tensor(1., device='cuda:0', requires_grad=True), Parameter containing:\n",
      "tensor(1., device='cuda:0', requires_grad=True), Parameter containing:\n",
      "tensor(1., device='cuda:0', requires_grad=True), Parameter containing:\n",
      "tensor(1., device='cuda:0', requires_grad=True), Parameter containing:\n",
      "tensor(1., device='cuda:0', requires_grad=True), Parameter containing:\n",
      "tensor(1., device='cuda:0', requires_grad=True), Parameter containing:\n",
      "tensor(1., device='cuda:0', requires_grad=True), Parameter containing:\n",
      "tensor(1., device='cuda:0', requires_grad=True), Parameter containing:\n",
      "tensor(1., device='cuda:0', requires_grad=True), Parameter containing:\n",
      "tensor(1., device='cuda:0', requires_grad=True), Parameter containing:\n",
      "tensor(1., device='cuda:0', requires_grad=True), Parameter containing:\n",
      "tensor(1., device='cuda:0', requires_grad=True), Parameter containing:\n",
      "tensor(1., device='cuda:0', requires_grad=True), Parameter containing:\n",
      "tensor(1., device='cuda:0', requires_grad=True), Parameter containing:\n",
      "tensor(1., device='cuda:0', requires_grad=True), Parameter containing:\n",
      "tensor(1., device='cuda:0', requires_grad=True), Parameter containing:\n",
      "tensor(1., device='cuda:0', requires_grad=True), Parameter containing:\n",
      "tensor(1., device='cuda:0', requires_grad=True), Parameter containing:\n",
      "tensor(1., device='cuda:0', requires_grad=True), Parameter containing:\n",
      "tensor(1., device='cuda:0', requires_grad=True), Parameter containing:\n",
      "tensor(1., device='cuda:0', requires_grad=True), Parameter containing:\n",
      "tensor(1., device='cuda:0', requires_grad=True), Parameter containing:\n",
      "tensor(1., device='cuda:0', requires_grad=True), Parameter containing:\n",
      "tensor(1., device='cuda:0', requires_grad=True), Parameter containing:\n",
      "tensor(1., device='cuda:0', requires_grad=True), Parameter containing:\n",
      "tensor(1., device='cuda:0', requires_grad=True), Parameter containing:\n",
      "tensor(1., device='cuda:0', requires_grad=True), Parameter containing:\n",
      "tensor(1., device='cuda:0', requires_grad=True), Parameter containing:\n",
      "tensor(1., device='cuda:0', requires_grad=True), Parameter containing:\n",
      "tensor(1., device='cuda:0', requires_grad=True), Parameter containing:\n",
      "tensor(1., device='cuda:0', requires_grad=True), Parameter containing:\n",
      "tensor(1., device='cuda:0', requires_grad=True), Parameter containing:\n",
      "tensor(1., device='cuda:0', requires_grad=True), Parameter containing:\n",
      "tensor(1., device='cuda:0', requires_grad=True), Parameter containing:\n",
      "tensor(1., device='cuda:0', requires_grad=True), Parameter containing:\n",
      "tensor(1., device='cuda:0', requires_grad=True), Parameter containing:\n",
      "tensor(1., device='cuda:0', requires_grad=True), Parameter containing:\n",
      "tensor(1., device='cuda:0', requires_grad=True), Parameter containing:\n",
      "tensor(1., device='cuda:0', requires_grad=True), Parameter containing:\n",
      "tensor(1., device='cuda:0', requires_grad=True), Parameter containing:\n",
      "tensor(1., device='cuda:0', requires_grad=True), Parameter containing:\n",
      "tensor(1., device='cuda:0', requires_grad=True), Parameter containing:\n",
      "tensor(1., device='cuda:0', requires_grad=True), Parameter containing:\n",
      "tensor(1., device='cuda:0', requires_grad=True), Parameter containing:\n",
      "tensor(1., device='cuda:0', requires_grad=True), Parameter containing:\n",
      "tensor(1., device='cuda:0', requires_grad=True), Parameter containing:\n",
      "tensor(1., device='cuda:0', requires_grad=True), Parameter containing:\n",
      "tensor(1., device='cuda:0', requires_grad=True), Parameter containing:\n",
      "tensor(1., device='cuda:0', requires_grad=True), Parameter containing:\n",
      "tensor(1., device='cuda:0', requires_grad=True), Parameter containing:\n",
      "tensor(1., device='cuda:0', requires_grad=True), Parameter containing:\n",
      "tensor(1., device='cuda:0', requires_grad=True), Parameter containing:\n",
      "tensor(1., device='cuda:0', requires_grad=True), Parameter containing:\n",
      "tensor(1., device='cuda:0', requires_grad=True), Parameter containing:\n",
      "tensor(1., device='cuda:0', requires_grad=True), Parameter containing:\n",
      "tensor(1., device='cuda:0', requires_grad=True), Parameter containing:\n",
      "tensor(1., device='cuda:0', requires_grad=True), Parameter containing:\n",
      "tensor(1., device='cuda:0', requires_grad=True), Parameter containing:\n",
      "tensor(1., device='cuda:0', requires_grad=True), Parameter containing:\n",
      "tensor(1., device='cuda:0', requires_grad=True), Parameter containing:\n",
      "tensor(1., device='cuda:0', requires_grad=True), Parameter containing:\n",
      "tensor(1., device='cuda:0', requires_grad=True), Parameter containing:\n",
      "tensor(1., device='cuda:0', requires_grad=True), Parameter containing:\n",
      "tensor(1., device='cuda:0', requires_grad=True), Parameter containing:\n",
      "tensor(1., device='cuda:0', requires_grad=True), Parameter containing:\n",
      "tensor(1., device='cuda:0', requires_grad=True), Parameter containing:\n",
      "tensor(1., device='cuda:0', requires_grad=True), Parameter containing:\n",
      "tensor(1., device='cuda:0', requires_grad=True), Parameter containing:\n",
      "tensor(1., device='cuda:0', requires_grad=True), Parameter containing:\n",
      "tensor(1., device='cuda:0', requires_grad=True), Parameter containing:\n",
      "tensor(1., device='cuda:0', requires_grad=True), Parameter containing:\n",
      "tensor(1., device='cuda:0', requires_grad=True), Parameter containing:\n",
      "tensor(1., device='cuda:0', requires_grad=True), Parameter containing:\n",
      "tensor(1., device='cuda:0', requires_grad=True), Parameter containing:\n",
      "tensor(1., device='cuda:0', requires_grad=True), Parameter containing:\n",
      "tensor(1., device='cuda:0', requires_grad=True), Parameter containing:\n",
      "tensor(1., device='cuda:0', requires_grad=True), Parameter containing:\n",
      "tensor(1., device='cuda:0', requires_grad=True), Parameter containing:\n",
      "tensor(1., device='cuda:0', requires_grad=True), Parameter containing:\n",
      "tensor(1., device='cuda:0', requires_grad=True), Parameter containing:\n",
      "tensor(1., device='cuda:0', requires_grad=True), Parameter containing:\n",
      "tensor(1., device='cuda:0', requires_grad=True), Parameter containing:\n",
      "tensor(1., device='cuda:0', requires_grad=True), Parameter containing:\n",
      "tensor(1., device='cuda:0', requires_grad=True), Parameter containing:\n",
      "tensor(1., device='cuda:0', requires_grad=True), Parameter containing:\n",
      "tensor(1., device='cuda:0', requires_grad=True), Parameter containing:\n",
      "tensor(1., device='cuda:0', requires_grad=True), Parameter containing:\n",
      "tensor(1., device='cuda:0', requires_grad=True), Parameter containing:\n",
      "tensor(1., device='cuda:0', requires_grad=True), Parameter containing:\n",
      "tensor(1., device='cuda:0', requires_grad=True), Parameter containing:\n",
      "tensor(1., device='cuda:0', requires_grad=True), Parameter containing:\n",
      "tensor(1., device='cuda:0', requires_grad=True), Parameter containing:\n",
      "tensor(1., device='cuda:0', requires_grad=True), Parameter containing:\n",
      "tensor(1., device='cuda:0', requires_grad=True), Parameter containing:\n",
      "tensor(1., device='cuda:0', requires_grad=True), Parameter containing:\n",
      "tensor(1., device='cuda:0', requires_grad=True), Parameter containing:\n",
      "tensor(1., device='cuda:0', requires_grad=True), Parameter containing:\n",
      "tensor(1., device='cuda:0', requires_grad=True), Parameter containing:\n",
      "tensor(1., device='cuda:0', requires_grad=True), Parameter containing:\n",
      "tensor(1., device='cuda:0', requires_grad=True), Parameter containing:\n",
      "tensor(1., device='cuda:0', requires_grad=True), Parameter containing:\n",
      "tensor(1., device='cuda:0', requires_grad=True), Parameter containing:\n",
      "tensor(1., device='cuda:0', requires_grad=True), Parameter containing:\n",
      "tensor(1., device='cuda:0', requires_grad=True), Parameter containing:\n",
      "tensor(1., device='cuda:0', requires_grad=True), Parameter containing:\n",
      "tensor(1., device='cuda:0', requires_grad=True), Parameter containing:\n",
      "tensor(1., device='cuda:0', requires_grad=True), Parameter containing:\n",
      "tensor(1., device='cuda:0', requires_grad=True), Parameter containing:\n",
      "tensor(1., device='cuda:0', requires_grad=True), Parameter containing:\n",
      "tensor(1., device='cuda:0', requires_grad=True), Parameter containing:\n",
      "tensor(1., device='cuda:0', requires_grad=True), Parameter containing:\n",
      "tensor(1., device='cuda:0', requires_grad=True), Parameter containing:\n",
      "tensor(1., device='cuda:0', requires_grad=True), Parameter containing:\n",
      "tensor(1., device='cuda:0', requires_grad=True), Parameter containing:\n",
      "tensor(1., device='cuda:0', requires_grad=True), Parameter containing:\n",
      "tensor(1., device='cuda:0', requires_grad=True), Parameter containing:\n",
      "tensor(1., device='cuda:0', requires_grad=True), Parameter containing:\n",
      "tensor(1., device='cuda:0', requires_grad=True), Parameter containing:\n",
      "tensor(1., device='cuda:0', requires_grad=True), Parameter containing:\n",
      "tensor(1., device='cuda:0', requires_grad=True), Parameter containing:\n",
      "tensor(1., device='cuda:0', requires_grad=True), Parameter containing:\n",
      "tensor(1., device='cuda:0', requires_grad=True), Parameter containing:\n",
      "tensor(1., device='cuda:0', requires_grad=True), Parameter containing:\n",
      "tensor(1., device='cuda:0', requires_grad=True), Parameter containing:\n",
      "tensor(1., device='cuda:0', requires_grad=True), Parameter containing:\n",
      "tensor(1., device='cuda:0', requires_grad=True), Parameter containing:\n",
      "tensor(1., device='cuda:0', requires_grad=True), Parameter containing:\n",
      "tensor(1., device='cuda:0', requires_grad=True), Parameter containing:\n",
      "tensor(1., device='cuda:0', requires_grad=True), Parameter containing:\n",
      "tensor(1., device='cuda:0', requires_grad=True), Parameter containing:\n",
      "tensor(1., device='cuda:0', requires_grad=True), Parameter containing:\n",
      "tensor(1., device='cuda:0', requires_grad=True), Parameter containing:\n",
      "tensor(1., device='cuda:0', requires_grad=True), Parameter containing:\n",
      "tensor(1., device='cuda:0', requires_grad=True), Parameter containing:\n",
      "tensor(1., device='cuda:0', requires_grad=True), Parameter containing:\n",
      "tensor(1., device='cuda:0', requires_grad=True), Parameter containing:\n",
      "tensor(1., device='cuda:0', requires_grad=True), Parameter containing:\n",
      "tensor(1., device='cuda:0', requires_grad=True), Parameter containing:\n",
      "tensor(1., device='cuda:0', requires_grad=True), Parameter containing:\n",
      "tensor(1., device='cuda:0', requires_grad=True), Parameter containing:\n",
      "tensor(1., device='cuda:0', requires_grad=True), Parameter containing:\n",
      "tensor(1., device='cuda:0', requires_grad=True), Parameter containing:\n",
      "tensor(1., device='cuda:0', requires_grad=True), Parameter containing:\n",
      "tensor(1., device='cuda:0', requires_grad=True), Parameter containing:\n",
      "tensor(1., device='cuda:0', requires_grad=True), Parameter containing:\n",
      "tensor(1., device='cuda:0', requires_grad=True), Parameter containing:\n",
      "tensor(1., device='cuda:0', requires_grad=True), Parameter containing:\n",
      "tensor(1., device='cuda:0', requires_grad=True), Parameter containing:\n",
      "tensor(1., device='cuda:0', requires_grad=True), Parameter containing:\n",
      "tensor(1., device='cuda:0', requires_grad=True), Parameter containing:\n",
      "tensor(1., device='cuda:0', requires_grad=True), Parameter containing:\n",
      "tensor(1., device='cuda:0', requires_grad=True), Parameter containing:\n",
      "tensor(1., device='cuda:0', requires_grad=True), Parameter containing:\n",
      "tensor(1., device='cuda:0', requires_grad=True), Parameter containing:\n",
      "tensor(1., device='cuda:0', requires_grad=True), Parameter containing:\n",
      "tensor(1., device='cuda:0', requires_grad=True), Parameter containing:\n",
      "tensor(1., device='cuda:0', requires_grad=True), Parameter containing:\n",
      "tensor(1., device='cuda:0', requires_grad=True), Parameter containing:\n",
      "tensor(1., device='cuda:0', requires_grad=True), Parameter containing:\n",
      "tensor(1., device='cuda:0', requires_grad=True), Parameter containing:\n",
      "tensor(1., device='cuda:0', requires_grad=True), Parameter containing:\n",
      "tensor(1., device='cuda:0', requires_grad=True), Parameter containing:\n",
      "tensor(1., device='cuda:0', requires_grad=True), Parameter containing:\n",
      "tensor(1., device='cuda:0', requires_grad=True), Parameter containing:\n",
      "tensor(1., device='cuda:0', requires_grad=True), Parameter containing:\n",
      "tensor(1., device='cuda:0', requires_grad=True), Parameter containing:\n",
      "tensor(1., device='cuda:0', requires_grad=True), Parameter containing:\n",
      "tensor(1., device='cuda:0', requires_grad=True), Parameter containing:\n",
      "tensor(1., device='cuda:0', requires_grad=True), Parameter containing:\n",
      "tensor(1., device='cuda:0', requires_grad=True), Parameter containing:\n",
      "tensor(1., device='cuda:0', requires_grad=True), Parameter containing:\n",
      "tensor(1., device='cuda:0', requires_grad=True), Parameter containing:\n",
      "tensor(1., device='cuda:0', requires_grad=True), Parameter containing:\n",
      "tensor(1., device='cuda:0', requires_grad=True), Parameter containing:\n",
      "tensor(1., device='cuda:0', requires_grad=True), Parameter containing:\n",
      "tensor(1., device='cuda:0', requires_grad=True), Parameter containing:\n",
      "tensor(1., device='cuda:0', requires_grad=True), Parameter containing:\n",
      "tensor(1., device='cuda:0', requires_grad=True), Parameter containing:\n",
      "tensor(1., device='cuda:0', requires_grad=True), Parameter containing:\n",
      "tensor(1., device='cuda:0', requires_grad=True), Parameter containing:\n",
      "tensor(1., device='cuda:0', requires_grad=True), Parameter containing:\n",
      "tensor(1., device='cuda:0', requires_grad=True), Parameter containing:\n",
      "tensor(1., device='cuda:0', requires_grad=True), Parameter containing:\n",
      "tensor(1., device='cuda:0', requires_grad=True), Parameter containing:\n",
      "tensor(1., device='cuda:0', requires_grad=True), Parameter containing:\n",
      "tensor(1., device='cuda:0', requires_grad=True), Parameter containing:\n",
      "tensor(1., device='cuda:0', requires_grad=True), Parameter containing:\n",
      "tensor(1., device='cuda:0', requires_grad=True), Parameter containing:\n",
      "tensor(1., device='cuda:0', requires_grad=True), Parameter containing:\n",
      "tensor(1., device='cuda:0', requires_grad=True), Parameter containing:\n",
      "tensor(1., device='cuda:0', requires_grad=True), Parameter containing:\n",
      "tensor(1., device='cuda:0', requires_grad=True), Parameter containing:\n",
      "tensor(1., device='cuda:0', requires_grad=True), Parameter containing:\n",
      "tensor(1., device='cuda:0', requires_grad=True), Parameter containing:\n",
      "tensor(1., device='cuda:0', requires_grad=True), Parameter containing:\n",
      "tensor(1., device='cuda:0', requires_grad=True), Parameter containing:\n",
      "tensor(1., device='cuda:0', requires_grad=True), Parameter containing:\n",
      "tensor(1., device='cuda:0', requires_grad=True), Parameter containing:\n",
      "tensor(1., device='cuda:0', requires_grad=True), Parameter containing:\n",
      "tensor(1., device='cuda:0', requires_grad=True), Parameter containing:\n",
      "tensor(1., device='cuda:0', requires_grad=True), Parameter containing:\n",
      "tensor(1., device='cuda:0', requires_grad=True), Parameter containing:\n",
      "tensor(1., device='cuda:0', requires_grad=True), Parameter containing:\n",
      "tensor(1., device='cuda:0', requires_grad=True), Parameter containing:\n",
      "tensor(1., device='cuda:0', requires_grad=True), Parameter containing:\n",
      "tensor(1., device='cuda:0', requires_grad=True), Parameter containing:\n",
      "tensor(1., device='cuda:0', requires_grad=True), Parameter containing:\n",
      "tensor(1., device='cuda:0', requires_grad=True), Parameter containing:\n",
      "tensor(1., device='cuda:0', requires_grad=True), Parameter containing:\n",
      "tensor(1., device='cuda:0', requires_grad=True), Parameter containing:\n",
      "tensor(1., device='cuda:0', requires_grad=True), Parameter containing:\n",
      "tensor(1., device='cuda:0', requires_grad=True), Parameter containing:\n",
      "tensor(1., device='cuda:0', requires_grad=True), Parameter containing:\n",
      "tensor(1., device='cuda:0', requires_grad=True), Parameter containing:\n",
      "tensor(1., device='cuda:0', requires_grad=True), Parameter containing:\n",
      "tensor(1., device='cuda:0', requires_grad=True), Parameter containing:\n",
      "tensor(1., device='cuda:0', requires_grad=True), Parameter containing:\n",
      "tensor(1., device='cuda:0', requires_grad=True), Parameter containing:\n",
      "tensor(1., device='cuda:0', requires_grad=True), Parameter containing:\n",
      "tensor(1., device='cuda:0', requires_grad=True), Parameter containing:\n",
      "tensor(1., device='cuda:0', requires_grad=True), Parameter containing:\n",
      "tensor(1., device='cuda:0', requires_grad=True), Parameter containing:\n",
      "tensor(1., device='cuda:0', requires_grad=True), Parameter containing:\n",
      "tensor(1., device='cuda:0', requires_grad=True), Parameter containing:\n",
      "tensor(1., device='cuda:0', requires_grad=True), Parameter containing:\n",
      "tensor(1., device='cuda:0', requires_grad=True), Parameter containing:\n",
      "tensor(1., device='cuda:0', requires_grad=True), Parameter containing:\n",
      "tensor(1., device='cuda:0', requires_grad=True), Parameter containing:\n",
      "tensor(1., device='cuda:0', requires_grad=True), Parameter containing:\n",
      "tensor(1., device='cuda:0', requires_grad=True), Parameter containing:\n",
      "tensor(1., device='cuda:0', requires_grad=True), Parameter containing:\n",
      "tensor(1., device='cuda:0', requires_grad=True), Parameter containing:\n",
      "tensor(1., device='cuda:0', requires_grad=True), Parameter containing:\n",
      "tensor(1., device='cuda:0', requires_grad=True), Parameter containing:\n",
      "tensor(1., device='cuda:0', requires_grad=True), Parameter containing:\n",
      "tensor(1., device='cuda:0', requires_grad=True), Parameter containing:\n",
      "tensor(1., device='cuda:0', requires_grad=True), Parameter containing:\n",
      "tensor(1., device='cuda:0', requires_grad=True), Parameter containing:\n",
      "tensor(1., device='cuda:0', requires_grad=True), Parameter containing:\n",
      "tensor(1., device='cuda:0', requires_grad=True), Parameter containing:\n",
      "tensor(1., device='cuda:0', requires_grad=True), Parameter containing:\n",
      "tensor(1., device='cuda:0', requires_grad=True), Parameter containing:\n",
      "tensor(1., device='cuda:0', requires_grad=True), Parameter containing:\n",
      "tensor(1., device='cuda:0', requires_grad=True), Parameter containing:\n",
      "tensor(1., device='cuda:0', requires_grad=True), Parameter containing:\n",
      "tensor(1., device='cuda:0', requires_grad=True), Parameter containing:\n",
      "tensor(1., device='cuda:0', requires_grad=True), Parameter containing:\n",
      "tensor(1., device='cuda:0', requires_grad=True), Parameter containing:\n",
      "tensor(1., device='cuda:0', requires_grad=True), Parameter containing:\n",
      "tensor(1., device='cuda:0', requires_grad=True), Parameter containing:\n",
      "tensor(1., device='cuda:0', requires_grad=True), Parameter containing:\n",
      "tensor(1., device='cuda:0', requires_grad=True), Parameter containing:\n",
      "tensor(1., device='cuda:0', requires_grad=True), Parameter containing:\n",
      "tensor(1., device='cuda:0', requires_grad=True), Parameter containing:\n",
      "tensor(1., device='cuda:0', requires_grad=True), Parameter containing:\n",
      "tensor(1., device='cuda:0', requires_grad=True), Parameter containing:\n",
      "tensor(1., device='cuda:0', requires_grad=True), Parameter containing:\n",
      "tensor(1., device='cuda:0', requires_grad=True), Parameter containing:\n",
      "tensor(1., device='cuda:0', requires_grad=True), Parameter containing:\n",
      "tensor(1., device='cuda:0', requires_grad=True), Parameter containing:\n",
      "tensor(1., device='cuda:0', requires_grad=True), Parameter containing:\n",
      "tensor(1., device='cuda:0', requires_grad=True), Parameter containing:\n",
      "tensor(1., device='cuda:0', requires_grad=True), Parameter containing:\n",
      "tensor(1., device='cuda:0', requires_grad=True), Parameter containing:\n",
      "tensor(1., device='cuda:0', requires_grad=True), Parameter containing:\n",
      "tensor(1., device='cuda:0', requires_grad=True), Parameter containing:\n",
      "tensor(1., device='cuda:0', requires_grad=True), Parameter containing:\n",
      "tensor(1., device='cuda:0', requires_grad=True), Parameter containing:\n",
      "tensor(1., device='cuda:0', requires_grad=True), Parameter containing:\n",
      "tensor(1., device='cuda:0', requires_grad=True), Parameter containing:\n",
      "tensor(1., device='cuda:0', requires_grad=True), Parameter containing:\n",
      "tensor(1., device='cuda:0', requires_grad=True), Parameter containing:\n",
      "tensor(1., device='cuda:0', requires_grad=True), Parameter containing:\n",
      "tensor(1., device='cuda:0', requires_grad=True), Parameter containing:\n",
      "tensor(1., device='cuda:0', requires_grad=True), Parameter containing:\n",
      "tensor(1., device='cuda:0', requires_grad=True), Parameter containing:\n",
      "tensor(1., device='cuda:0', requires_grad=True), Parameter containing:\n",
      "tensor(1., device='cuda:0', requires_grad=True), Parameter containing:\n",
      "tensor(1., device='cuda:0', requires_grad=True), Parameter containing:\n",
      "tensor(1., device='cuda:0', requires_grad=True), Parameter containing:\n",
      "tensor(1., device='cuda:0', requires_grad=True), Parameter containing:\n",
      "tensor(1., device='cuda:0', requires_grad=True), Parameter containing:\n",
      "tensor(1., device='cuda:0', requires_grad=True), Parameter containing:\n",
      "tensor(1., device='cuda:0', requires_grad=True), Parameter containing:\n",
      "tensor(1., device='cuda:0', requires_grad=True), Parameter containing:\n",
      "tensor(1., device='cuda:0', requires_grad=True), Parameter containing:\n",
      "tensor(1., device='cuda:0', requires_grad=True), Parameter containing:\n",
      "tensor(1., device='cuda:0', requires_grad=True), Parameter containing:\n",
      "tensor(1., device='cuda:0', requires_grad=True), Parameter containing:\n",
      "tensor(1., device='cuda:0', requires_grad=True), Parameter containing:\n",
      "tensor(1., device='cuda:0', requires_grad=True), Parameter containing:\n",
      "tensor(1., device='cuda:0', requires_grad=True), Parameter containing:\n",
      "tensor(1., device='cuda:0', requires_grad=True), Parameter containing:\n",
      "tensor(1., device='cuda:0', requires_grad=True), Parameter containing:\n",
      "tensor(1., device='cuda:0', requires_grad=True), Parameter containing:\n",
      "tensor(1., device='cuda:0', requires_grad=True), Parameter containing:\n",
      "tensor(1., device='cuda:0', requires_grad=True), Parameter containing:\n",
      "tensor(1., device='cuda:0', requires_grad=True), Parameter containing:\n",
      "tensor(1., device='cuda:0', requires_grad=True), Parameter containing:\n",
      "tensor(1., device='cuda:0', requires_grad=True), Parameter containing:\n",
      "tensor(1., device='cuda:0', requires_grad=True), Parameter containing:\n",
      "tensor(1., device='cuda:0', requires_grad=True), Parameter containing:\n",
      "tensor(1., device='cuda:0', requires_grad=True), Parameter containing:\n",
      "tensor(1., device='cuda:0', requires_grad=True), Parameter containing:\n",
      "tensor(1., device='cuda:0', requires_grad=True), Parameter containing:\n",
      "tensor(1., device='cuda:0', requires_grad=True), Parameter containing:\n",
      "tensor(1., device='cuda:0', requires_grad=True), Parameter containing:\n",
      "tensor(1., device='cuda:0', requires_grad=True), Parameter containing:\n",
      "tensor(1., device='cuda:0', requires_grad=True), Parameter containing:\n",
      "tensor(1., device='cuda:0', requires_grad=True), Parameter containing:\n",
      "tensor(1., device='cuda:0', requires_grad=True), Parameter containing:\n",
      "tensor(1., device='cuda:0', requires_grad=True), Parameter containing:\n",
      "tensor(1., device='cuda:0', requires_grad=True), Parameter containing:\n",
      "tensor(1., device='cuda:0', requires_grad=True), Parameter containing:\n",
      "tensor(1., device='cuda:0', requires_grad=True), Parameter containing:\n",
      "tensor(1., device='cuda:0', requires_grad=True), Parameter containing:\n",
      "tensor(1., device='cuda:0', requires_grad=True), Parameter containing:\n",
      "tensor(1., device='cuda:0', requires_grad=True), Parameter containing:\n",
      "tensor(1., device='cuda:0', requires_grad=True), Parameter containing:\n",
      "tensor(1., device='cuda:0', requires_grad=True), Parameter containing:\n",
      "tensor(1., device='cuda:0', requires_grad=True), Parameter containing:\n",
      "tensor(1., device='cuda:0', requires_grad=True), Parameter containing:\n",
      "tensor(1., device='cuda:0', requires_grad=True), Parameter containing:\n",
      "tensor(1., device='cuda:0', requires_grad=True), Parameter containing:\n",
      "tensor(1., device='cuda:0', requires_grad=True), Parameter containing:\n",
      "tensor(1., device='cuda:0', requires_grad=True), Parameter containing:\n",
      "tensor(1., device='cuda:0', requires_grad=True), Parameter containing:\n",
      "tensor(1., device='cuda:0', requires_grad=True), Parameter containing:\n",
      "tensor(1., device='cuda:0', requires_grad=True), Parameter containing:\n",
      "tensor(1., device='cuda:0', requires_grad=True), Parameter containing:\n",
      "tensor(1., device='cuda:0', requires_grad=True), Parameter containing:\n",
      "tensor(1., device='cuda:0', requires_grad=True), Parameter containing:\n",
      "tensor(1., device='cuda:0', requires_grad=True), Parameter containing:\n",
      "tensor(1., device='cuda:0', requires_grad=True), Parameter containing:\n",
      "tensor(1., device='cuda:0', requires_grad=True), Parameter containing:\n",
      "tensor(1., device='cuda:0', requires_grad=True), Parameter containing:\n",
      "tensor(1., device='cuda:0', requires_grad=True), Parameter containing:\n",
      "tensor(1., device='cuda:0', requires_grad=True), Parameter containing:\n",
      "tensor(1., device='cuda:0', requires_grad=True), Parameter containing:\n",
      "tensor(1., device='cuda:0', requires_grad=True), Parameter containing:\n",
      "tensor(1., device='cuda:0', requires_grad=True), Parameter containing:\n",
      "tensor(1., device='cuda:0', requires_grad=True), Parameter containing:\n",
      "tensor(1., device='cuda:0', requires_grad=True), Parameter containing:\n",
      "tensor(1., device='cuda:0', requires_grad=True), Parameter containing:\n",
      "tensor(1., device='cuda:0', requires_grad=True), Parameter containing:\n",
      "tensor(1., device='cuda:0', requires_grad=True), Parameter containing:\n",
      "tensor(1., device='cuda:0', requires_grad=True), Parameter containing:\n",
      "tensor(1., device='cuda:0', requires_grad=True), Parameter containing:\n",
      "tensor(1., device='cuda:0', requires_grad=True), Parameter containing:\n",
      "tensor(1., device='cuda:0', requires_grad=True), Parameter containing:\n",
      "tensor(1., device='cuda:0', requires_grad=True), Parameter containing:\n",
      "tensor(1., device='cuda:0', requires_grad=True), Parameter containing:\n",
      "tensor(1., device='cuda:0', requires_grad=True), Parameter containing:\n",
      "tensor(1., device='cuda:0', requires_grad=True), Parameter containing:\n",
      "tensor(1., device='cuda:0', requires_grad=True), Parameter containing:\n",
      "tensor(1., device='cuda:0', requires_grad=True), Parameter containing:\n",
      "tensor(1., device='cuda:0', requires_grad=True), Parameter containing:\n",
      "tensor(1., device='cuda:0', requires_grad=True), Parameter containing:\n",
      "tensor(1., device='cuda:0', requires_grad=True), Parameter containing:\n",
      "tensor(1., device='cuda:0', requires_grad=True), Parameter containing:\n",
      "tensor(1., device='cuda:0', requires_grad=True), Parameter containing:\n",
      "tensor(1., device='cuda:0', requires_grad=True), Parameter containing:\n",
      "tensor(1., device='cuda:0', requires_grad=True), Parameter containing:\n",
      "tensor(1., device='cuda:0', requires_grad=True), Parameter containing:\n",
      "tensor(1., device='cuda:0', requires_grad=True), Parameter containing:\n",
      "tensor(1., device='cuda:0', requires_grad=True), Parameter containing:\n",
      "tensor(1., device='cuda:0', requires_grad=True), Parameter containing:\n",
      "tensor(1., device='cuda:0', requires_grad=True), Parameter containing:\n",
      "tensor(1., device='cuda:0', requires_grad=True), Parameter containing:\n",
      "tensor(1., device='cuda:0', requires_grad=True), Parameter containing:\n",
      "tensor(1., device='cuda:0', requires_grad=True), Parameter containing:\n",
      "tensor(1., device='cuda:0', requires_grad=True), Parameter containing:\n",
      "tensor(1., device='cuda:0', requires_grad=True), Parameter containing:\n",
      "tensor(1., device='cuda:0', requires_grad=True), Parameter containing:\n",
      "tensor(1., device='cuda:0', requires_grad=True), Parameter containing:\n",
      "tensor(1., device='cuda:0', requires_grad=True), Parameter containing:\n",
      "tensor(1., device='cuda:0', requires_grad=True), Parameter containing:\n",
      "tensor(1., device='cuda:0', requires_grad=True), Parameter containing:\n",
      "tensor(1., device='cuda:0', requires_grad=True), Parameter containing:\n",
      "tensor(1., device='cuda:0', requires_grad=True), Parameter containing:\n",
      "tensor(1., device='cuda:0', requires_grad=True), Parameter containing:\n",
      "tensor(1., device='cuda:0', requires_grad=True), Parameter containing:\n",
      "tensor(1., device='cuda:0', requires_grad=True), Parameter containing:\n",
      "tensor(1., device='cuda:0', requires_grad=True), Parameter containing:\n",
      "tensor(1., device='cuda:0', requires_grad=True), Parameter containing:\n",
      "tensor(1., device='cuda:0', requires_grad=True), Parameter containing:\n",
      "tensor(1., device='cuda:0', requires_grad=True), Parameter containing:\n",
      "tensor(1., device='cuda:0', requires_grad=True), Parameter containing:\n",
      "tensor(1., device='cuda:0', requires_grad=True), Parameter containing:\n",
      "tensor(1., device='cuda:0', requires_grad=True), Parameter containing:\n",
      "tensor(1., device='cuda:0', requires_grad=True), Parameter containing:\n",
      "tensor(1., device='cuda:0', requires_grad=True), Parameter containing:\n",
      "tensor(1., device='cuda:0', requires_grad=True), Parameter containing:\n",
      "tensor(1., device='cuda:0', requires_grad=True), Parameter containing:\n",
      "tensor(1., device='cuda:0', requires_grad=True), Parameter containing:\n",
      "tensor(1., device='cuda:0', requires_grad=True), Parameter containing:\n",
      "tensor(1., device='cuda:0', requires_grad=True), Parameter containing:\n",
      "tensor(1., device='cuda:0', requires_grad=True), Parameter containing:\n",
      "tensor(1., device='cuda:0', requires_grad=True), Parameter containing:\n",
      "tensor(1., device='cuda:0', requires_grad=True), Parameter containing:\n",
      "tensor(1., device='cuda:0', requires_grad=True), Parameter containing:\n",
      "tensor(1., device='cuda:0', requires_grad=True), Parameter containing:\n",
      "tensor(1., device='cuda:0', requires_grad=True), Parameter containing:\n",
      "tensor(1., device='cuda:0', requires_grad=True), Parameter containing:\n",
      "tensor(1., device='cuda:0', requires_grad=True), Parameter containing:\n",
      "tensor(1., device='cuda:0', requires_grad=True), Parameter containing:\n",
      "tensor(1., device='cuda:0', requires_grad=True), Parameter containing:\n",
      "tensor(1., device='cuda:0', requires_grad=True), Parameter containing:\n",
      "tensor(1., device='cuda:0', requires_grad=True), Parameter containing:\n",
      "tensor(1., device='cuda:0', requires_grad=True), Parameter containing:\n",
      "tensor(1., device='cuda:0', requires_grad=True), Parameter containing:\n",
      "tensor(1., device='cuda:0', requires_grad=True), Parameter containing:\n",
      "tensor(1., device='cuda:0', requires_grad=True), Parameter containing:\n",
      "tensor(1., device='cuda:0', requires_grad=True), Parameter containing:\n",
      "tensor(1., device='cuda:0', requires_grad=True), Parameter containing:\n",
      "tensor(1., device='cuda:0', requires_grad=True), Parameter containing:\n",
      "tensor(1., device='cuda:0', requires_grad=True), Parameter containing:\n",
      "tensor(1., device='cuda:0', requires_grad=True), Parameter containing:\n",
      "tensor(1., device='cuda:0', requires_grad=True), Parameter containing:\n",
      "tensor(1., device='cuda:0', requires_grad=True), Parameter containing:\n",
      "tensor(1., device='cuda:0', requires_grad=True), Parameter containing:\n",
      "tensor(1., device='cuda:0', requires_grad=True), Parameter containing:\n",
      "tensor(1., device='cuda:0', requires_grad=True), Parameter containing:\n",
      "tensor(1., device='cuda:0', requires_grad=True), Parameter containing:\n",
      "tensor(1., device='cuda:0', requires_grad=True), Parameter containing:\n",
      "tensor(1., device='cuda:0', requires_grad=True), Parameter containing:\n",
      "tensor(1., device='cuda:0', requires_grad=True), Parameter containing:\n",
      "tensor(1., device='cuda:0', requires_grad=True), Parameter containing:\n",
      "tensor(1., device='cuda:0', requires_grad=True), Parameter containing:\n",
      "tensor(1., device='cuda:0', requires_grad=True), Parameter containing:\n",
      "tensor(1., device='cuda:0', requires_grad=True), Parameter containing:\n",
      "tensor(1., device='cuda:0', requires_grad=True), Parameter containing:\n",
      "tensor(1., device='cuda:0', requires_grad=True), Parameter containing:\n",
      "tensor(1., device='cuda:0', requires_grad=True), Parameter containing:\n",
      "tensor(1., device='cuda:0', requires_grad=True), Parameter containing:\n",
      "tensor(1., device='cuda:0', requires_grad=True), Parameter containing:\n",
      "tensor(1., device='cuda:0', requires_grad=True), Parameter containing:\n",
      "tensor(1., device='cuda:0', requires_grad=True), Parameter containing:\n",
      "tensor(1., device='cuda:0', requires_grad=True), Parameter containing:\n",
      "tensor(1., device='cuda:0', requires_grad=True), Parameter containing:\n",
      "tensor(1., device='cuda:0', requires_grad=True), Parameter containing:\n",
      "tensor(1., device='cuda:0', requires_grad=True), Parameter containing:\n",
      "tensor(1., device='cuda:0', requires_grad=True), Parameter containing:\n",
      "tensor(1., device='cuda:0', requires_grad=True), Parameter containing:\n",
      "tensor(1., device='cuda:0', requires_grad=True), Parameter containing:\n",
      "tensor(1., device='cuda:0', requires_grad=True), Parameter containing:\n",
      "tensor(1., device='cuda:0', requires_grad=True), Parameter containing:\n",
      "tensor(1., device='cuda:0', requires_grad=True), Parameter containing:\n",
      "tensor(1., device='cuda:0', requires_grad=True), Parameter containing:\n",
      "tensor(1., device='cuda:0', requires_grad=True), Parameter containing:\n",
      "tensor(1., device='cuda:0', requires_grad=True), Parameter containing:\n",
      "tensor(1., device='cuda:0', requires_grad=True), Parameter containing:\n",
      "tensor(1., device='cuda:0', requires_grad=True), Parameter containing:\n",
      "tensor(1., device='cuda:0', requires_grad=True), Parameter containing:\n",
      "tensor(1., device='cuda:0', requires_grad=True), Parameter containing:\n",
      "tensor(1., device='cuda:0', requires_grad=True), Parameter containing:\n",
      "tensor(1., device='cuda:0', requires_grad=True), Parameter containing:\n",
      "tensor(1., device='cuda:0', requires_grad=True), Parameter containing:\n",
      "tensor(1., device='cuda:0', requires_grad=True), Parameter containing:\n",
      "tensor(1., device='cuda:0', requires_grad=True)]\n"
     ]
    }
   ],
   "source": [
    "parameters = list(model.parameters())\n",
    "print(parameters)"
   ]
  },
  {
   "cell_type": "code",
   "execution_count": null,
   "metadata": {},
   "outputs": [],
   "source": []
  },
  {
   "cell_type": "code",
   "execution_count": 50,
   "metadata": {},
   "outputs": [],
   "source": [
    "import torch\n",
    "import torch.nn as nn\n",
    "import torch.optim as optim\n",
    "from torch.utils.data import DataLoader, TensorDataset"
   ]
  },
  {
   "cell_type": "code",
   "execution_count": 61,
   "metadata": {},
   "outputs": [],
   "source": [
    "class ToyNetwork(nn.Module):\n",
    "    def __init__(self) -> None:\n",
    "        super().__init__()\n",
    "        self.fc1 = nn.Linear(2, 512)\n",
    "    \n",
    "    def forward(self, x):\n",
    "        print(x.shape)\n",
    "        x = self.fc1(x)\n",
    "        return x\n",
    "\n",
    "model = ToyNetwork()"
   ]
  },
  {
   "cell_type": "code",
   "execution_count": 60,
   "metadata": {},
   "outputs": [],
   "source": [
    "nb_examples = 25\n",
    "X = torch.randn(nb_examples,2)\n",
    "X_alone = torch.randn(2)"
   ]
  },
  {
   "cell_type": "code",
   "execution_count": 64,
   "metadata": {},
   "outputs": [
    {
     "name": "stdout",
     "output_type": "stream",
     "text": [
      "torch.Size([25, 2])\n"
     ]
    },
    {
     "data": {
      "text/plain": [
       "torch.Size([25, 512])"
      ]
     },
     "execution_count": 64,
     "metadata": {},
     "output_type": "execute_result"
    }
   ],
   "source": [
    "model(X).shape"
   ]
  },
  {
   "cell_type": "code",
   "execution_count": 49,
   "metadata": {},
   "outputs": [],
   "source": [
    "# Generate a toy dataset\n",
    "def generate_toy_data(num_samples=1000):\n",
    "    X = torch.randn(num_samples, 2)\n",
    "    Y = torch.randn(num_samples, 512)  # Assuming the output should match the dimensions of the layer\n",
    "    return X, Y"
   ]
  },
  {
   "cell_type": "code",
   "execution_count": 55,
   "metadata": {},
   "outputs": [
    {
     "name": "stdout",
     "output_type": "stream",
     "text": [
      "Epoch [1/10], Loss: 1.4671\n",
      "Epoch [2/10], Loss: 1.4158\n",
      "Epoch [3/10], Loss: 1.3677\n",
      "Epoch [4/10], Loss: 1.3296\n",
      "Epoch [5/10], Loss: 1.2848\n",
      "Epoch [6/10], Loss: 1.2510\n",
      "Epoch [7/10], Loss: 1.2209\n",
      "Epoch [8/10], Loss: 1.1952\n",
      "Epoch [9/10], Loss: 1.1719\n",
      "Epoch [10/10], Loss: 1.1469\n"
     ]
    }
   ],
   "source": [
    "\n",
    "# Define training parameters\n",
    "num_epochs = 10\n",
    "batch_size = 32\n",
    "learning_rate = 0.001\n",
    "\n",
    "# Create dataset and dataloader\n",
    "X, Y = generate_toy_data()\n",
    "dataset = TensorDataset(X, Y)\n",
    "dataloader = DataLoader(dataset, batch_size=batch_size, shuffle=True)\n",
    "\n",
    "# Instantiate model, loss function, and optimizer\n",
    "model = ToyNetwork()\n",
    "criterion = nn.MSELoss()\n",
    "optimizer = optim.Adam(model.parameters(), lr=learning_rate)\n",
    "\n",
    "\n",
    "# Training loop\n",
    "for epoch in range(num_epochs):\n",
    "    epoch_loss = 0\n",
    "    model.train()  # Set the model to training mode\n",
    "    for batch in dataloader:\n",
    "        inputs, targets = batch\n",
    "\n",
    "        # Forward pass\n",
    "        outputs = model(inputs)\n",
    "        \n",
    "        # Compute loss\n",
    "        loss = criterion(outputs, targets)\n",
    "        \n",
    "        # Backward pass and optimization\n",
    "        optimizer.zero_grad()\n",
    "        loss.backward()\n",
    "        optimizer.step()\n",
    "\n",
    "        # Accumulate loss\n",
    "        epoch_loss += loss.item()\n",
    "\n",
    "    # Average loss for the epoch\n",
    "    avg_loss = epoch_loss / len(dataloader)\n",
    "    print(f'Epoch [{epoch+1}/{num_epochs}], Loss: {avg_loss:.4f}')"
   ]
  }
 ],
 "metadata": {
  "kernelspec": {
   "display_name": "base",
   "language": "python",
   "name": "python3"
  },
  "language_info": {
   "codemirror_mode": {
    "name": "ipython",
    "version": 3
   },
   "file_extension": ".py",
   "mimetype": "text/x-python",
   "name": "python",
   "nbconvert_exporter": "python",
   "pygments_lexer": "ipython3",
   "version": "3.8.12"
  }
 },
 "nbformat": 4,
 "nbformat_minor": 2
}
