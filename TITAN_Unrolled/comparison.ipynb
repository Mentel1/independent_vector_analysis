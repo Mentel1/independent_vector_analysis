{
 "cells": [
  {
   "cell_type": "code",
   "execution_count": 5,
   "metadata": {},
   "outputs": [
    {
     "name": "stdout",
     "output_type": "stream",
     "text": [
      "ISI Score Layer  1 :  tensor(0.5311, device='cuda:0', grad_fn=<DivBackward0>)\n",
      "ISI Score Layer  2 :  tensor(0.5003, device='cuda:0', grad_fn=<DivBackward0>)\n",
      "ISI Score Layer  3 :  tensor(0.4782, device='cuda:0', grad_fn=<DivBackward0>)\n",
      "ISI Score Layer  4 :  tensor(0.4684, device='cuda:0', grad_fn=<DivBackward0>)\n",
      "ISI Score Layer  5 :  tensor(0.4517, device='cuda:0', grad_fn=<DivBackward0>)\n",
      "ISI Score Layer  6 :  tensor(0.4496, device='cuda:0', grad_fn=<DivBackward0>)\n",
      "ISI Score Layer  7 :  tensor(0.4608, device='cuda:0', grad_fn=<DivBackward0>)\n",
      "ISI Score Layer  8 :  tensor(0.4672, device='cuda:0', grad_fn=<DivBackward0>)\n",
      "ISI Score Layer  9 :  tensor(0.4709, device='cuda:0', grad_fn=<DivBackward0>)\n",
      "ISI Score Layer  10 :  tensor(0.4733, device='cuda:0', grad_fn=<DivBackward0>)\n",
      "ISI Score Layer  11 :  tensor(0.4751, device='cuda:0', grad_fn=<DivBackward0>)\n",
      "ISI Score Layer  12 :  tensor(0.4765, device='cuda:0', grad_fn=<DivBackward0>)\n",
      "ISI Score Layer  13 :  tensor(0.4778, device='cuda:0', grad_fn=<DivBackward0>)\n",
      "ISI Score Layer  14 :  tensor(0.4790, device='cuda:0', grad_fn=<DivBackward0>)\n",
      "ISI Score Layer  15 :  tensor(0.4787, device='cuda:0', grad_fn=<DivBackward0>)\n",
      "ISI Score Layer  16 :  tensor(0.4775, device='cuda:0', grad_fn=<DivBackward0>)\n",
      "ISI Score Layer  17 :  tensor(0.4762, device='cuda:0', grad_fn=<DivBackward0>)\n",
      "ISI Score Layer  18 :  tensor(0.4750, device='cuda:0', grad_fn=<DivBackward0>)\n",
      "ISI Score Layer  19 :  tensor(0.4738, device='cuda:0', grad_fn=<DivBackward0>)\n",
      "ISI Score Layer  20 :  tensor(0.4726, device='cuda:0', grad_fn=<DivBackward0>)\n",
      "ISI Score Layer  21 :  tensor(0.4715, device='cuda:0', grad_fn=<DivBackward0>)\n",
      "ISI Score Layer  22 :  tensor(0.4703, device='cuda:0', grad_fn=<DivBackward0>)\n",
      "ISI Score Layer  23 :  tensor(0.4692, device='cuda:0', grad_fn=<DivBackward0>)\n",
      "ISI Score Layer  24 :  tensor(0.4680, device='cuda:0', grad_fn=<DivBackward0>)\n",
      "ISI Score Layer  25 :  tensor(0.4669, device='cuda:0', grad_fn=<DivBackward0>)\n",
      "ISI Score Layer  26 :  tensor(0.4658, device='cuda:0', grad_fn=<DivBackward0>)\n",
      "ISI Score Layer  27 :  tensor(0.4647, device='cuda:0', grad_fn=<DivBackward0>)\n",
      "ISI Score Layer  28 :  tensor(0.4636, device='cuda:0', grad_fn=<DivBackward0>)\n",
      "ISI Score Layer  29 :  tensor(0.4625, device='cuda:0', grad_fn=<DivBackward0>)\n",
      "ISI Score Layer  30 :  tensor(0.4615, device='cuda:0', grad_fn=<DivBackward0>)\n",
      "ISI Score Layer  31 :  tensor(0.4609, device='cuda:0', grad_fn=<DivBackward0>)\n",
      "ISI Score Layer  32 :  tensor(0.4605, device='cuda:0', grad_fn=<DivBackward0>)\n",
      "ISI Score Layer  33 :  tensor(0.4601, device='cuda:0', grad_fn=<DivBackward0>)\n",
      "ISI Score Layer  34 :  tensor(0.4598, device='cuda:0', grad_fn=<DivBackward0>)\n",
      "ISI Score Layer  35 :  tensor(0.4594, device='cuda:0', grad_fn=<DivBackward0>)\n",
      "ISI Score Layer  36 :  tensor(0.4609, device='cuda:0', grad_fn=<DivBackward0>)\n",
      "ISI Score Layer  37 :  tensor(0.4624, device='cuda:0', grad_fn=<DivBackward0>)\n",
      "ISI Score Layer  38 :  tensor(0.4640, device='cuda:0', grad_fn=<DivBackward0>)\n",
      "ISI Score Layer  39 :  tensor(0.4656, device='cuda:0', grad_fn=<DivBackward0>)\n",
      "ISI Score Layer  40 :  tensor(0.4672, device='cuda:0', grad_fn=<DivBackward0>)\n",
      "ISI Score Layer  41 :  tensor(0.4689, device='cuda:0', grad_fn=<DivBackward0>)\n",
      "ISI Score Layer  42 :  tensor(0.4706, device='cuda:0', grad_fn=<DivBackward0>)\n",
      "ISI Score Layer  43 :  tensor(0.4724, device='cuda:0', grad_fn=<DivBackward0>)\n",
      "ISI Score Layer  44 :  tensor(0.4742, device='cuda:0', grad_fn=<DivBackward0>)\n",
      "ISI Score Layer  45 :  tensor(0.4760, device='cuda:0', grad_fn=<DivBackward0>)\n",
      "ISI Score Layer  46 :  tensor(0.4779, device='cuda:0', grad_fn=<DivBackward0>)\n",
      "ISI Score Layer  47 :  tensor(0.4798, device='cuda:0', grad_fn=<DivBackward0>)\n",
      "ISI Score Layer  48 :  tensor(0.4817, device='cuda:0', grad_fn=<DivBackward0>)\n",
      "ISI Score Layer  49 :  tensor(0.4837, device='cuda:0', grad_fn=<DivBackward0>)\n",
      "ISI Score Layer  50 :  tensor(0.4856, device='cuda:0', grad_fn=<DivBackward0>)\n",
      "ISI Score Layer  51 :  tensor(0.4877, device='cuda:0', grad_fn=<DivBackward0>)\n",
      "ISI Score Layer  52 :  tensor(0.4897, device='cuda:0', grad_fn=<DivBackward0>)\n",
      "ISI Score Layer  53 :  tensor(0.4917, device='cuda:0', grad_fn=<DivBackward0>)\n",
      "ISI Score Layer  54 :  tensor(0.4938, device='cuda:0', grad_fn=<DivBackward0>)\n",
      "ISI Score Layer  55 :  tensor(0.4959, device='cuda:0', grad_fn=<DivBackward0>)\n",
      "ISI Score Layer  56 :  tensor(0.4980, device='cuda:0', grad_fn=<DivBackward0>)\n",
      "ISI Score Layer  57 :  tensor(0.5001, device='cuda:0', grad_fn=<DivBackward0>)\n",
      "ISI Score Layer  58 :  tensor(0.5022, device='cuda:0', grad_fn=<DivBackward0>)\n",
      "ISI Score Layer  59 :  tensor(0.5044, device='cuda:0', grad_fn=<DivBackward0>)\n",
      "ISI Score Layer  60 :  tensor(0.5065, device='cuda:0', grad_fn=<DivBackward0>)\n",
      "ISI Score Layer  61 :  tensor(0.5087, device='cuda:0', grad_fn=<DivBackward0>)\n",
      "ISI Score Layer  62 :  tensor(0.5108, device='cuda:0', grad_fn=<DivBackward0>)\n",
      "ISI Score Layer  63 :  tensor(0.5129, device='cuda:0', grad_fn=<DivBackward0>)\n",
      "ISI Score Layer  64 :  tensor(0.5151, device='cuda:0', grad_fn=<DivBackward0>)\n",
      "ISI Score Layer  65 :  tensor(0.5172, device='cuda:0', grad_fn=<DivBackward0>)\n",
      "ISI Score Layer  66 :  tensor(0.5194, device='cuda:0', grad_fn=<DivBackward0>)\n",
      "ISI Score Layer  67 :  tensor(0.5215, device='cuda:0', grad_fn=<DivBackward0>)\n",
      "ISI Score Layer  68 :  tensor(0.5236, device='cuda:0', grad_fn=<DivBackward0>)\n",
      "ISI Score Layer  69 :  tensor(0.5257, device='cuda:0', grad_fn=<DivBackward0>)\n",
      "ISI Score Layer  70 :  tensor(0.5278, device='cuda:0', grad_fn=<DivBackward0>)\n",
      "ISI Score Layer  71 :  tensor(0.5298, device='cuda:0', grad_fn=<DivBackward0>)\n",
      "ISI Score Layer  72 :  tensor(0.5319, device='cuda:0', grad_fn=<DivBackward0>)\n",
      "ISI Score Layer  73 :  tensor(0.5339, device='cuda:0', grad_fn=<DivBackward0>)\n",
      "ISI Score Layer  74 :  tensor(0.5355, device='cuda:0', grad_fn=<DivBackward0>)\n",
      "ISI Score Layer  75 :  tensor(0.5350, device='cuda:0', grad_fn=<DivBackward0>)\n",
      "ISI Score Layer  76 :  tensor(0.5344, device='cuda:0', grad_fn=<DivBackward0>)\n",
      "ISI Score Layer  77 :  tensor(0.5339, device='cuda:0', grad_fn=<DivBackward0>)\n",
      "ISI Score Layer  78 :  tensor(0.5335, device='cuda:0', grad_fn=<DivBackward0>)\n",
      "ISI Score Layer  79 :  tensor(0.5330, device='cuda:0', grad_fn=<DivBackward0>)\n",
      "ISI Score Layer  80 :  tensor(0.5326, device='cuda:0', grad_fn=<DivBackward0>)\n",
      "ISI Score Layer  81 :  tensor(0.5323, device='cuda:0', grad_fn=<DivBackward0>)\n",
      "ISI Score Layer  82 :  tensor(0.5319, device='cuda:0', grad_fn=<DivBackward0>)\n",
      "ISI Score Layer  83 :  tensor(0.5316, device='cuda:0', grad_fn=<DivBackward0>)\n",
      "ISI Score Layer  84 :  tensor(0.5312, device='cuda:0', grad_fn=<DivBackward0>)\n",
      "ISI Score Layer  85 :  tensor(0.5310, device='cuda:0', grad_fn=<DivBackward0>)\n",
      "ISI Score Layer  86 :  tensor(0.5307, device='cuda:0', grad_fn=<DivBackward0>)\n",
      "ISI Score Layer  87 :  tensor(0.5304, device='cuda:0', grad_fn=<DivBackward0>)\n",
      "ISI Score Layer  88 :  tensor(0.5304, device='cuda:0', grad_fn=<DivBackward0>)\n",
      "ISI Score Layer  89 :  tensor(0.5305, device='cuda:0', grad_fn=<DivBackward0>)\n",
      "ISI Score Layer  90 :  tensor(0.5305, device='cuda:0', grad_fn=<DivBackward0>)\n",
      "ISI Score Layer  91 :  tensor(0.5306, device='cuda:0', grad_fn=<DivBackward0>)\n",
      "ISI Score Layer  92 :  tensor(0.5306, device='cuda:0', grad_fn=<DivBackward0>)\n",
      "ISI Score Layer  93 :  tensor(0.5307, device='cuda:0', grad_fn=<DivBackward0>)\n",
      "ISI Score Layer  94 :  tensor(0.5308, device='cuda:0', grad_fn=<DivBackward0>)\n",
      "ISI Score Layer  95 :  tensor(0.5309, device='cuda:0', grad_fn=<DivBackward0>)\n",
      "ISI Score Layer  96 :  tensor(0.5310, device='cuda:0', grad_fn=<DivBackward0>)\n",
      "ISI Score Layer  97 :  tensor(0.5310, device='cuda:0', grad_fn=<DivBackward0>)\n",
      "ISI Score Layer  98 :  tensor(0.5311, device='cuda:0', grad_fn=<DivBackward0>)\n",
      "ISI Score Layer  99 :  tensor(0.5312, device='cuda:0', grad_fn=<DivBackward0>)\n",
      "ISI Score Layer  100 :  tensor(0.5313, device='cuda:0', grad_fn=<DivBackward0>)\n",
      "W_predicted :\n",
      " tensor([[[ 0.9284, -0.9357],\n",
      "         [ 0.4238,  0.4054],\n",
      "         [-0.0430, -0.0586]],\n",
      "\n",
      "        [[ 0.4299,  0.4131],\n",
      "         [-0.9293,  0.9357],\n",
      "         [ 0.0479, -0.0669]],\n",
      "\n",
      "        [[-0.0187, -0.0269],\n",
      "         [-0.0656,  0.0897],\n",
      "         [-1.0503,  1.0484]]], device='cuda:0', grad_fn=<PermuteBackward0>)\n"
     ]
    }
   ],
   "source": [
    "import torch\n",
    "import torch.nn as nn\n",
    "from model import *\n",
    "from data import *\n",
    "from tools import *\n",
    "from functions import *\n",
    "from torch.utils.data import DataLoader\n"
   ]
  },
  {
   "cell_type": "code",
   "execution_count": 2,
   "metadata": {},
   "outputs": [],
   "source": [
    "\n",
    "\n",
    "\n",
    "## Model parameters\n",
    "\n",
    "gamma_c = 1\n",
    "gamma_w = 0.99\n",
    "eps = 1e-12\n",
    "nu = 0.5\n",
    "zeta = 0.1 \n",
    "\n",
    "\n",
    "# Hyperparameters\n",
    "\n",
    "T = 100\n",
    "K = 2\n",
    "N = 3\n",
    "\n",
    "lambda_1 = 0.04\n",
    "lambda_2 = 0.25\n",
    "rho_bounds_1 = [0.2,0.3]\n",
    "rho_bounds_2 = [0.6,0.7]\n",
    "rhos = [rho_bounds_1,rho_bounds_2]\n",
    "lambdas = [lambda_1,lambda_2]\n",
    "\n",
    "metaparameters_multiparam = get_metaparameters(rhos,lambdas)\n",
    "metaparameters_titles_multiparam = ['Case A','Case B','Case C','Case D']\n",
    "\n",
    "\n",
    "input_dim = N * N * K + K * K * N \n",
    "N_updates_W = 10\n",
    "N_updates_C = 1\n",
    "num_layers = 10\n",
    "mode = 'test'\n",
    "size = 1\n",
    "\n",
    "\n",
    "data = MyDataset(T,K,N,metaparameters_multiparam,size)\n",
    "dataloader = DataLoader(data, batch_size=1, shuffle=True)\n"
   ]
  },
  {
   "cell_type": "code",
   "execution_count": 3,
   "metadata": {},
   "outputs": [],
   "source": [
    "(x,y) = next(iter(dataloader))"
   ]
  },
  {
   "cell_type": "code",
   "execution_count": 27,
   "metadata": {},
   "outputs": [],
   "source": [
    "model = myModel(input_dim, N_updates_W, N_updates_C, num_layers=10, gamma_c=gamma_c, gamma_w=gamma_w, eps=eps, nu=nu, zeta=zeta).cuda()\n"
   ]
  },
  {
   "cell_type": "code",
   "execution_count": 28,
   "metadata": {},
   "outputs": [
    {
     "data": {
      "text/plain": [
       "tensor([[[[ 1.0000e+00, -1.9073e-08, -2.2650e-08],\n",
       "          [-1.9073e-08,  1.0000e+00, -2.8610e-08],\n",
       "          [-2.2650e-08, -2.8610e-08,  1.0000e+00]],\n",
       "\n",
       "         [[-7.0360e-01, -5.8390e-02, -2.7983e-02],\n",
       "          [ 4.5918e-02, -6.7165e-01,  6.6176e-02],\n",
       "          [-5.3405e-02, -6.7522e-02, -4.8758e-01]]],\n",
       "\n",
       "\n",
       "        [[[-7.0360e-01,  4.5918e-02, -5.3405e-02],\n",
       "          [-5.8390e-02, -6.7165e-01, -6.7522e-02],\n",
       "          [-2.7983e-02,  6.6176e-02, -4.8758e-01]],\n",
       "\n",
       "         [[ 1.0000e+00, -1.7047e-07,  3.8147e-08],\n",
       "          [-1.7047e-07,  1.0000e+00, -1.0282e-07],\n",
       "          [ 3.8147e-08, -1.0282e-07,  1.0000e+00]]]], device='cuda:0')"
      ]
     },
     "execution_count": 28,
     "metadata": {},
     "output_type": "execute_result"
    }
   ],
   "source": [
    "Rx = cov_X(x[0])\n",
    "Rx"
   ]
  },
  {
   "cell_type": "code",
   "execution_count": 29,
   "metadata": {},
   "outputs": [],
   "source": [
    "W,C = initialize(N,K)"
   ]
  },
  {
   "cell_type": "code",
   "execution_count": 30,
   "metadata": {},
   "outputs": [
    {
     "data": {
      "text/plain": [
       "tensor(0.4734, device='cuda:0')"
      ]
     },
     "execution_count": 30,
     "metadata": {},
     "output_type": "execute_result"
    }
   ],
   "source": [
    "joint_isi(W,y[0])"
   ]
  },
  {
   "cell_type": "code",
   "execution_count": 45,
   "metadata": {},
   "outputs": [
    {
     "data": {
      "text/plain": [
       "(tensor([[[-0.5174, -1.2696],\n",
       "          [ 0.9053, -0.1782],\n",
       "          [-1.4097, -1.9092]],\n",
       " \n",
       "         [[ 0.9695,  0.8883],\n",
       "          [-1.8174,  0.2036],\n",
       "          [-0.0957,  0.4201]],\n",
       " \n",
       "         [[ 0.3256, -0.1550],\n",
       "          [ 0.4584, -0.2224],\n",
       "          [-0.7084,  0.8564]]], device='cuda:0'),\n",
       " tensor([[[0.9197, 0.9878, 0.9780],\n",
       "          [0.3949, 0.5173, 0.5283]],\n",
       " \n",
       "         [[0.3949, 0.5173, 0.5283],\n",
       "          [1.0456, 1.0725, 1.0096]]], device='cuda:0'))"
      ]
     },
     "execution_count": 45,
     "metadata": {},
     "output_type": "execute_result"
    }
   ],
   "source": [
    "model(Rx,W,C,y[0],mode)"
   ]
  },
  {
   "cell_type": "code",
   "execution_count": 32,
   "metadata": {},
   "outputs": [
    {
     "data": {
      "text/plain": [
       "tensor([[[ 0.1435, -0.7139],\n",
       "         [ 1.0391, -1.0144],\n",
       "         [ 1.0484,  0.2160]],\n",
       "\n",
       "        [[ 2.1047,  1.7555],\n",
       "         [-0.8142,  0.2095],\n",
       "         [ 0.8352, -0.3957]],\n",
       "\n",
       "        [[ 1.3956, -0.6532],\n",
       "         [-1.1581, -4.0758],\n",
       "         [ 1.0392, -3.9552]]], device='cuda:0')"
      ]
     },
     "execution_count": 32,
     "metadata": {},
     "output_type": "execute_result"
    }
   ],
   "source": [
    "y[0]"
   ]
  },
  {
   "cell_type": "code",
   "execution_count": 33,
   "metadata": {},
   "outputs": [
    {
     "data": {
      "text/plain": [
       "tensor([[[-0.5174, -1.2696],\n",
       "         [ 0.9053, -0.1782],\n",
       "         [-1.4097, -1.9092]],\n",
       "\n",
       "        [[ 0.9695,  0.8883],\n",
       "         [-1.8174,  0.2036],\n",
       "         [-0.0957,  0.4201]],\n",
       "\n",
       "        [[ 0.3256, -0.1550],\n",
       "         [ 0.4584, -0.2224],\n",
       "         [-0.7084,  0.8564]]], device='cuda:0')"
      ]
     },
     "execution_count": 33,
     "metadata": {},
     "output_type": "execute_result"
    }
   ],
   "source": [
    "W_predicted"
   ]
  },
  {
   "cell_type": "code",
   "execution_count": 34,
   "metadata": {},
   "outputs": [
    {
     "data": {
      "text/plain": [
       "tensor(0.4734, device='cuda:0')"
      ]
     },
     "execution_count": 34,
     "metadata": {},
     "output_type": "execute_result"
    }
   ],
   "source": [
    "joint_isi(W_predicted,y[0])"
   ]
  },
  {
   "cell_type": "code",
   "execution_count": 29,
   "metadata": {},
   "outputs": [
    {
     "name": "stdout",
     "output_type": "stream",
     "text": [
      "X.size :  torch.Size([3, 100, 2])\n"
     ]
    },
    {
     "ename": "TypeError",
     "evalue": "forward() takes 5 positional arguments but 6 were given",
     "output_type": "error",
     "traceback": [
      "\u001b[0;31m---------------------------------------------------------------------------\u001b[0m",
      "\u001b[0;31mTypeError\u001b[0m                                 Traceback (most recent call last)",
      "\u001b[0;32m/tmp/ipykernel_1026/2676713145.py\u001b[0m in \u001b[0;36m<module>\u001b[0;34m\u001b[0m\n\u001b[1;32m     11\u001b[0m \u001b[0;34m\u001b[0m\u001b[0m\n\u001b[1;32m     12\u001b[0m \u001b[0;34m\u001b[0m\u001b[0m\n\u001b[0;32m---> 13\u001b[0;31m     \u001b[0mW_predicted_5\u001b[0m\u001b[0;34m,\u001b[0m\u001b[0m_\u001b[0m \u001b[0;34m=\u001b[0m \u001b[0mmodel_5\u001b[0m\u001b[0;34m(\u001b[0m\u001b[0mRx\u001b[0m\u001b[0;34m,\u001b[0m\u001b[0mW\u001b[0m\u001b[0;34m,\u001b[0m\u001b[0mC\u001b[0m\u001b[0;34m,\u001b[0m\u001b[0mmode\u001b[0m\u001b[0;34m)\u001b[0m\u001b[0;34m\u001b[0m\u001b[0;34m\u001b[0m\u001b[0m\n\u001b[0m\u001b[1;32m     14\u001b[0m     \u001b[0mW_predicted_100\u001b[0m\u001b[0;34m,\u001b[0m\u001b[0m_\u001b[0m \u001b[0;34m=\u001b[0m \u001b[0mmodel_100\u001b[0m\u001b[0;34m(\u001b[0m\u001b[0mRx\u001b[0m\u001b[0;34m,\u001b[0m\u001b[0mW\u001b[0m\u001b[0;34m,\u001b[0m\u001b[0mC\u001b[0m\u001b[0;34m,\u001b[0m\u001b[0mmode\u001b[0m\u001b[0;34m)\u001b[0m\u001b[0;34m\u001b[0m\u001b[0;34m\u001b[0m\u001b[0m\n\u001b[1;32m     15\u001b[0m \u001b[0;34m\u001b[0m\u001b[0m\n",
      "\u001b[0;32m/opt/conda/lib/python3.8/site-packages/torch/nn/modules/module.py\u001b[0m in \u001b[0;36m_call_impl\u001b[0;34m(self, *input, **kwargs)\u001b[0m\n\u001b[1;32m   1108\u001b[0m         if not (self._backward_hooks or self._forward_hooks or self._forward_pre_hooks or _global_backward_hooks\n\u001b[1;32m   1109\u001b[0m                 or _global_forward_hooks or _global_forward_pre_hooks):\n\u001b[0;32m-> 1110\u001b[0;31m             \u001b[0;32mreturn\u001b[0m \u001b[0mforward_call\u001b[0m\u001b[0;34m(\u001b[0m\u001b[0;34m*\u001b[0m\u001b[0minput\u001b[0m\u001b[0;34m,\u001b[0m \u001b[0;34m**\u001b[0m\u001b[0mkwargs\u001b[0m\u001b[0;34m)\u001b[0m\u001b[0;34m\u001b[0m\u001b[0;34m\u001b[0m\u001b[0m\n\u001b[0m\u001b[1;32m   1111\u001b[0m         \u001b[0;31m# Do not call functions when jit is used\u001b[0m\u001b[0;34m\u001b[0m\u001b[0;34m\u001b[0m\u001b[0;34m\u001b[0m\u001b[0m\n\u001b[1;32m   1112\u001b[0m         \u001b[0mfull_backward_hooks\u001b[0m\u001b[0;34m,\u001b[0m \u001b[0mnon_full_backward_hooks\u001b[0m \u001b[0;34m=\u001b[0m \u001b[0;34m[\u001b[0m\u001b[0;34m]\u001b[0m\u001b[0;34m,\u001b[0m \u001b[0;34m[\u001b[0m\u001b[0;34m]\u001b[0m\u001b[0;34m\u001b[0m\u001b[0;34m\u001b[0m\u001b[0m\n",
      "\u001b[0;32m/workspace/TITAN/Unrolled-TITAN/TITAN_Unrolled/model.py\u001b[0m in \u001b[0;36mforward\u001b[0;34m(self, Rx, W, C, mode, layer)\u001b[0m\n\u001b[1;32m    297\u001b[0m             \u001b[0mC_j_1\u001b[0m \u001b[0;34m=\u001b[0m \u001b[0mC\u001b[0m\u001b[0;34m.\u001b[0m\u001b[0mclone\u001b[0m\u001b[0;34m(\u001b[0m\u001b[0;34m)\u001b[0m\u001b[0;34m\u001b[0m\u001b[0;34m\u001b[0m\u001b[0m\n\u001b[1;32m    298\u001b[0m             \u001b[0;32mfor\u001b[0m \u001b[0mi\u001b[0m \u001b[0;32min\u001b[0m \u001b[0mrange\u001b[0m\u001b[0;34m(\u001b[0m\u001b[0mlen\u001b[0m\u001b[0;34m(\u001b[0m\u001b[0mself\u001b[0m\u001b[0;34m.\u001b[0m\u001b[0mLayers\u001b[0m\u001b[0;34m)\u001b[0m\u001b[0;34m)\u001b[0m\u001b[0;34m:\u001b[0m\u001b[0;34m\u001b[0m\u001b[0;34m\u001b[0m\u001b[0m\n\u001b[0;32m--> 299\u001b[0;31m                 \u001b[0;31m# we use .detach() to avoid computing and storing the gradients since the model is being tested\u001b[0m\u001b[0;34m\u001b[0m\u001b[0;34m\u001b[0m\u001b[0;34m\u001b[0m\u001b[0m\n\u001b[0m\u001b[1;32m    300\u001b[0m                 \u001b[0mW\u001b[0m\u001b[0;34m,\u001b[0m\u001b[0mW_j_1\u001b[0m\u001b[0;34m,\u001b[0m\u001b[0mC\u001b[0m\u001b[0;34m,\u001b[0m\u001b[0mC_j_1\u001b[0m\u001b[0;34m,\u001b[0m\u001b[0mC_i_1\u001b[0m \u001b[0;34m=\u001b[0m \u001b[0mself\u001b[0m\u001b[0;34m.\u001b[0m\u001b[0mLayers\u001b[0m\u001b[0;34m[\u001b[0m\u001b[0mi\u001b[0m\u001b[0;34m]\u001b[0m\u001b[0;34m(\u001b[0m\u001b[0mRx\u001b[0m\u001b[0;34m,\u001b[0m\u001b[0mW\u001b[0m\u001b[0;34m,\u001b[0m\u001b[0mW_j_1\u001b[0m\u001b[0;34m,\u001b[0m\u001b[0mC\u001b[0m\u001b[0;34m,\u001b[0m\u001b[0mC_j_1\u001b[0m\u001b[0;34m,\u001b[0m\u001b[0mC_i_1\u001b[0m\u001b[0;34m)\u001b[0m\u001b[0;34m\u001b[0m\u001b[0;34m\u001b[0m\u001b[0m\n\u001b[1;32m    301\u001b[0m         \u001b[0;32mreturn\u001b[0m \u001b[0mW\u001b[0m\u001b[0;34m,\u001b[0m\u001b[0mC\u001b[0m\u001b[0;34m\u001b[0m\u001b[0;34m\u001b[0m\u001b[0m\n",
      "\u001b[0;32m/opt/conda/lib/python3.8/site-packages/torch/nn/modules/module.py\u001b[0m in \u001b[0;36m_call_impl\u001b[0;34m(self, *input, **kwargs)\u001b[0m\n\u001b[1;32m   1108\u001b[0m         if not (self._backward_hooks or self._forward_hooks or self._forward_pre_hooks or _global_backward_hooks\n\u001b[1;32m   1109\u001b[0m                 or _global_forward_hooks or _global_forward_pre_hooks):\n\u001b[0;32m-> 1110\u001b[0;31m             \u001b[0;32mreturn\u001b[0m \u001b[0mforward_call\u001b[0m\u001b[0;34m(\u001b[0m\u001b[0;34m*\u001b[0m\u001b[0minput\u001b[0m\u001b[0;34m,\u001b[0m \u001b[0;34m**\u001b[0m\u001b[0mkwargs\u001b[0m\u001b[0;34m)\u001b[0m\u001b[0;34m\u001b[0m\u001b[0;34m\u001b[0m\u001b[0m\n\u001b[0m\u001b[1;32m   1111\u001b[0m         \u001b[0;31m# Do not call functions when jit is used\u001b[0m\u001b[0;34m\u001b[0m\u001b[0;34m\u001b[0m\u001b[0;34m\u001b[0m\u001b[0m\n\u001b[1;32m   1112\u001b[0m         \u001b[0mfull_backward_hooks\u001b[0m\u001b[0;34m,\u001b[0m \u001b[0mnon_full_backward_hooks\u001b[0m \u001b[0;34m=\u001b[0m \u001b[0;34m[\u001b[0m\u001b[0;34m]\u001b[0m\u001b[0;34m,\u001b[0m \u001b[0;34m[\u001b[0m\u001b[0;34m]\u001b[0m\u001b[0;34m\u001b[0m\u001b[0;34m\u001b[0m\u001b[0m\n",
      "\u001b[0;31mTypeError\u001b[0m: forward() takes 5 positional arguments but 6 were given"
     ]
    }
   ],
   "source": [
    "\n",
    "for i, (X, A) in enumerate(dataloader):\n",
    "    X = X[0].cuda()\n",
    "    A = A[0].cuda()\n",
    "    print(\"X.size : \", X.size())\n",
    "    Rx = cov_X(X)\n",
    "    W,C = initialize(N,K)\n",
    "\n",
    "    model_5 = myModel(input_dim, N_updates_W, N_updates_C, num_layers=5, gamma_c=gamma_c, gamma_w=gamma_w, eps=eps, nu=nu, zeta=zeta).cuda()\n",
    "\n",
    "    model_100 = myModel(input_dim, N_updates_W, N_updates_C, num_layers=100, gamma_c=gamma_c, gamma_w=gamma_w, eps=eps, nu=nu, zeta=zeta).cuda()\n",
    "\n",
    "\n",
    "    W_predicted_5,_ = model_5(Rx,W,C,mode)\n",
    "    W_predicted_100,_ = model_100(Rx,W,C,mode)\n",
    "\n",
    "    print(\"ISI Score 5 layers: \", joint_isi(W_predicted_5,A))\n",
    "    print(\"ISI Score 100 layers: \", joint_isi(W_predicted_100,A))    \n",
    "    "
   ]
  },
  {
   "cell_type": "code",
   "execution_count": null,
   "metadata": {},
   "outputs": [],
   "source": []
  },
  {
   "cell_type": "code",
   "execution_count": null,
   "metadata": {},
   "outputs": [],
   "source": []
  },
  {
   "cell_type": "code",
   "execution_count": 9,
   "metadata": {},
   "outputs": [],
   "source": [
    "import torch\n",
    "\n",
    "\n",
    "X = torch.load('X.pt')\n",
    "A = torch.load('A.pt')\n",
    "Winit = torch.load('Winit.pt')\n",
    "Cinit = torch.load('Cinit.pt')"
   ]
  },
  {
   "cell_type": "code",
   "execution_count": 12,
   "metadata": {},
   "outputs": [
    {
     "name": "stdout",
     "output_type": "stream",
     "text": [
      "ISI Score Layer  1 :  tensor(0.5473, device='cuda:0', grad_fn=<DivBackward0>)\n",
      "ISI Score Layer  2 :  tensor(0.5598, device='cuda:0', grad_fn=<DivBackward0>)\n",
      "ISI Score Layer  3 :  tensor(0.5721, device='cuda:0', grad_fn=<DivBackward0>)\n",
      "ISI Score Layer  4 :  tensor(0.5798, device='cuda:0', grad_fn=<DivBackward0>)\n",
      "ISI Score Layer  5 :  tensor(0.5766, device='cuda:0', grad_fn=<DivBackward0>)\n",
      "ISI Score Layer  6 :  tensor(0.5566, device='cuda:0', grad_fn=<DivBackward0>)\n",
      "ISI Score Layer  7 :  tensor(0.5203, device='cuda:0', grad_fn=<DivBackward0>)\n",
      "ISI Score Layer  8 :  tensor(0.4820, device='cuda:0', grad_fn=<DivBackward0>)\n",
      "ISI Score Layer  9 :  tensor(0.4471, device='cuda:0', grad_fn=<DivBackward0>)\n",
      "ISI Score Layer  10 :  tensor(0.4287, device='cuda:0', grad_fn=<DivBackward0>)\n",
      "ISI Score Layer  11 :  tensor(0.4184, device='cuda:0', grad_fn=<DivBackward0>)\n",
      "ISI Score Layer  12 :  tensor(0.4161, device='cuda:0', grad_fn=<DivBackward0>)\n",
      "ISI Score Layer  13 :  tensor(0.4137, device='cuda:0', grad_fn=<DivBackward0>)\n",
      "ISI Score Layer  14 :  tensor(0.4110, device='cuda:0', grad_fn=<DivBackward0>)\n",
      "ISI Score Layer  15 :  tensor(0.4082, device='cuda:0', grad_fn=<DivBackward0>)\n",
      "ISI Score Layer  16 :  tensor(0.4053, device='cuda:0', grad_fn=<DivBackward0>)\n",
      "ISI Score Layer  17 :  tensor(0.4042, device='cuda:0', grad_fn=<DivBackward0>)\n",
      "ISI Score Layer  18 :  tensor(0.4035, device='cuda:0', grad_fn=<DivBackward0>)\n",
      "ISI Score Layer  19 :  tensor(0.4029, device='cuda:0', grad_fn=<DivBackward0>)\n",
      "ISI Score Layer  20 :  tensor(0.4022, device='cuda:0', grad_fn=<DivBackward0>)\n",
      "ISI Score Layer  21 :  tensor(0.4017, device='cuda:0', grad_fn=<DivBackward0>)\n",
      "ISI Score Layer  22 :  tensor(0.4011, device='cuda:0', grad_fn=<DivBackward0>)\n",
      "ISI Score Layer  23 :  tensor(0.4006, device='cuda:0', grad_fn=<DivBackward0>)\n",
      "ISI Score Layer  24 :  tensor(0.4000, device='cuda:0', grad_fn=<DivBackward0>)\n",
      "ISI Score Layer  25 :  tensor(0.3995, device='cuda:0', grad_fn=<DivBackward0>)\n",
      "ISI Score Layer  26 :  tensor(0.3991, device='cuda:0', grad_fn=<DivBackward0>)\n",
      "ISI Score Layer  27 :  tensor(0.3986, device='cuda:0', grad_fn=<DivBackward0>)\n",
      "ISI Score Layer  28 :  tensor(0.3981, device='cuda:0', grad_fn=<DivBackward0>)\n",
      "ISI Score Layer  29 :  tensor(0.3977, device='cuda:0', grad_fn=<DivBackward0>)\n",
      "ISI Score Layer  30 :  tensor(0.3972, device='cuda:0', grad_fn=<DivBackward0>)\n",
      "ISI Score Layer  31 :  tensor(0.3968, device='cuda:0', grad_fn=<DivBackward0>)\n",
      "ISI Score Layer  32 :  tensor(0.3964, device='cuda:0', grad_fn=<DivBackward0>)\n",
      "ISI Score Layer  33 :  tensor(0.3960, device='cuda:0', grad_fn=<DivBackward0>)\n",
      "ISI Score Layer  34 :  tensor(0.3957, device='cuda:0', grad_fn=<DivBackward0>)\n",
      "ISI Score Layer  35 :  tensor(0.3953, device='cuda:0', grad_fn=<DivBackward0>)\n",
      "ISI Score Layer  36 :  tensor(0.3950, device='cuda:0', grad_fn=<DivBackward0>)\n",
      "ISI Score Layer  37 :  tensor(0.3945, device='cuda:0', grad_fn=<DivBackward0>)\n",
      "ISI Score Layer  38 :  tensor(0.3938, device='cuda:0', grad_fn=<DivBackward0>)\n",
      "ISI Score Layer  39 :  tensor(0.3931, device='cuda:0', grad_fn=<DivBackward0>)\n",
      "ISI Score Layer  40 :  tensor(0.3925, device='cuda:0', grad_fn=<DivBackward0>)\n",
      "ISI Score Layer  41 :  tensor(0.3919, device='cuda:0', grad_fn=<DivBackward0>)\n",
      "ISI Score Layer  42 :  tensor(0.3913, device='cuda:0', grad_fn=<DivBackward0>)\n",
      "ISI Score Layer  43 :  tensor(0.3908, device='cuda:0', grad_fn=<DivBackward0>)\n",
      "ISI Score Layer  44 :  tensor(0.3903, device='cuda:0', grad_fn=<DivBackward0>)\n",
      "ISI Score Layer  45 :  tensor(0.3898, device='cuda:0', grad_fn=<DivBackward0>)\n",
      "ISI Score Layer  46 :  tensor(0.3893, device='cuda:0', grad_fn=<DivBackward0>)\n",
      "ISI Score Layer  47 :  tensor(0.3889, device='cuda:0', grad_fn=<DivBackward0>)\n",
      "ISI Score Layer  48 :  tensor(0.3885, device='cuda:0', grad_fn=<DivBackward0>)\n",
      "ISI Score Layer  49 :  tensor(0.3880, device='cuda:0', grad_fn=<DivBackward0>)\n",
      "ISI Score Layer  50 :  tensor(0.3877, device='cuda:0', grad_fn=<DivBackward0>)\n",
      "ISI Score Layer  51 :  tensor(0.3873, device='cuda:0', grad_fn=<DivBackward0>)\n",
      "ISI Score Layer  52 :  tensor(0.3869, device='cuda:0', grad_fn=<DivBackward0>)\n",
      "ISI Score Layer  53 :  tensor(0.3866, device='cuda:0', grad_fn=<DivBackward0>)\n",
      "ISI Score Layer  54 :  tensor(0.3863, device='cuda:0', grad_fn=<DivBackward0>)\n",
      "ISI Score Layer  55 :  tensor(0.3860, device='cuda:0', grad_fn=<DivBackward0>)\n",
      "ISI Score Layer  56 :  tensor(0.3857, device='cuda:0', grad_fn=<DivBackward0>)\n",
      "ISI Score Layer  57 :  tensor(0.3854, device='cuda:0', grad_fn=<DivBackward0>)\n",
      "ISI Score Layer  58 :  tensor(0.3851, device='cuda:0', grad_fn=<DivBackward0>)\n",
      "ISI Score Layer  59 :  tensor(0.3849, device='cuda:0', grad_fn=<DivBackward0>)\n",
      "ISI Score Layer  60 :  tensor(0.3846, device='cuda:0', grad_fn=<DivBackward0>)\n",
      "ISI Score Layer  61 :  tensor(0.3844, device='cuda:0', grad_fn=<DivBackward0>)\n",
      "ISI Score Layer  62 :  tensor(0.3842, device='cuda:0', grad_fn=<DivBackward0>)\n",
      "ISI Score Layer  63 :  tensor(0.3840, device='cuda:0', grad_fn=<DivBackward0>)\n",
      "ISI Score Layer  64 :  tensor(0.3838, device='cuda:0', grad_fn=<DivBackward0>)\n",
      "ISI Score Layer  65 :  tensor(0.3836, device='cuda:0', grad_fn=<DivBackward0>)\n",
      "ISI Score Layer  66 :  tensor(0.3834, device='cuda:0', grad_fn=<DivBackward0>)\n",
      "ISI Score Layer  67 :  tensor(0.3832, device='cuda:0', grad_fn=<DivBackward0>)\n",
      "ISI Score Layer  68 :  tensor(0.3831, device='cuda:0', grad_fn=<DivBackward0>)\n",
      "ISI Score Layer  69 :  tensor(0.3829, device='cuda:0', grad_fn=<DivBackward0>)\n",
      "ISI Score Layer  70 :  tensor(0.3827, device='cuda:0', grad_fn=<DivBackward0>)\n",
      "ISI Score Layer  71 :  tensor(0.3826, device='cuda:0', grad_fn=<DivBackward0>)\n",
      "ISI Score Layer  72 :  tensor(0.3825, device='cuda:0', grad_fn=<DivBackward0>)\n",
      "ISI Score Layer  73 :  tensor(0.3823, device='cuda:0', grad_fn=<DivBackward0>)\n",
      "ISI Score Layer  74 :  tensor(0.3822, device='cuda:0', grad_fn=<DivBackward0>)\n",
      "ISI Score Layer  75 :  tensor(0.3821, device='cuda:0', grad_fn=<DivBackward0>)\n",
      "ISI Score Layer  76 :  tensor(0.3820, device='cuda:0', grad_fn=<DivBackward0>)\n",
      "ISI Score Layer  77 :  tensor(0.3819, device='cuda:0', grad_fn=<DivBackward0>)\n",
      "ISI Score Layer  78 :  tensor(0.3818, device='cuda:0', grad_fn=<DivBackward0>)\n",
      "ISI Score Layer  79 :  tensor(0.3817, device='cuda:0', grad_fn=<DivBackward0>)\n",
      "ISI Score Layer  80 :  tensor(0.3816, device='cuda:0', grad_fn=<DivBackward0>)\n",
      "ISI Score Layer  81 :  tensor(0.3815, device='cuda:0', grad_fn=<DivBackward0>)\n",
      "ISI Score Layer  82 :  tensor(0.3814, device='cuda:0', grad_fn=<DivBackward0>)\n",
      "ISI Score Layer  83 :  tensor(0.3813, device='cuda:0', grad_fn=<DivBackward0>)\n",
      "ISI Score Layer  84 :  tensor(0.3813, device='cuda:0', grad_fn=<DivBackward0>)\n",
      "ISI Score Layer  85 :  tensor(0.3812, device='cuda:0', grad_fn=<DivBackward0>)\n",
      "ISI Score Layer  86 :  tensor(0.3811, device='cuda:0', grad_fn=<DivBackward0>)\n",
      "ISI Score Layer  87 :  tensor(0.3811, device='cuda:0', grad_fn=<DivBackward0>)\n",
      "ISI Score Layer  88 :  tensor(0.3810, device='cuda:0', grad_fn=<DivBackward0>)\n",
      "ISI Score Layer  89 :  tensor(0.3810, device='cuda:0', grad_fn=<DivBackward0>)\n",
      "ISI Score Layer  90 :  tensor(0.3809, device='cuda:0', grad_fn=<DivBackward0>)\n",
      "ISI Score Layer  91 :  tensor(0.3809, device='cuda:0', grad_fn=<DivBackward0>)\n",
      "ISI Score Layer  92 :  tensor(0.3808, device='cuda:0', grad_fn=<DivBackward0>)\n",
      "ISI Score Layer  93 :  tensor(0.3808, device='cuda:0', grad_fn=<DivBackward0>)\n",
      "ISI Score Layer  94 :  tensor(0.3807, device='cuda:0', grad_fn=<DivBackward0>)\n",
      "ISI Score Layer  95 :  tensor(0.3807, device='cuda:0', grad_fn=<DivBackward0>)\n",
      "ISI Score Layer  96 :  tensor(0.3807, device='cuda:0', grad_fn=<DivBackward0>)\n",
      "ISI Score Layer  97 :  tensor(0.3806, device='cuda:0', grad_fn=<DivBackward0>)\n",
      "ISI Score Layer  98 :  tensor(0.3806, device='cuda:0', grad_fn=<DivBackward0>)\n",
      "ISI Score Layer  99 :  tensor(0.3806, device='cuda:0', grad_fn=<DivBackward0>)\n",
      "ISI Score Layer  100 :  tensor(0.3806, device='cuda:0', grad_fn=<DivBackward0>)\n",
      "ISI Score Layer  101 :  tensor(0.3805, device='cuda:0', grad_fn=<DivBackward0>)\n",
      "ISI Score Layer  102 :  tensor(0.3805, device='cuda:0', grad_fn=<DivBackward0>)\n",
      "ISI Score Layer  103 :  tensor(0.3805, device='cuda:0', grad_fn=<DivBackward0>)\n",
      "ISI Score Layer  104 :  tensor(0.3805, device='cuda:0', grad_fn=<DivBackward0>)\n",
      "ISI Score Layer  105 :  tensor(0.3805, device='cuda:0', grad_fn=<DivBackward0>)\n",
      "ISI Score Layer  106 :  tensor(0.3805, device='cuda:0', grad_fn=<DivBackward0>)\n",
      "ISI Score Layer  107 :  tensor(0.3805, device='cuda:0', grad_fn=<DivBackward0>)\n",
      "ISI Score Layer  108 :  tensor(0.3805, device='cuda:0', grad_fn=<DivBackward0>)\n",
      "ISI Score Layer  109 :  tensor(0.3805, device='cuda:0', grad_fn=<DivBackward0>)\n",
      "ISI Score Layer  110 :  tensor(0.3805, device='cuda:0', grad_fn=<DivBackward0>)\n",
      "ISI Score Layer  111 :  tensor(0.3805, device='cuda:0', grad_fn=<DivBackward0>)\n",
      "ISI Score Layer  112 :  tensor(0.3805, device='cuda:0', grad_fn=<DivBackward0>)\n",
      "ISI Score Layer  113 :  tensor(0.3805, device='cuda:0', grad_fn=<DivBackward0>)\n",
      "ISI Score Layer  114 :  tensor(0.3805, device='cuda:0', grad_fn=<DivBackward0>)\n",
      "ISI Score Layer  115 :  tensor(0.3805, device='cuda:0', grad_fn=<DivBackward0>)\n",
      "ISI Score Layer  116 :  tensor(0.3805, device='cuda:0', grad_fn=<DivBackward0>)\n",
      "ISI Score Layer  117 :  tensor(0.3805, device='cuda:0', grad_fn=<DivBackward0>)\n",
      "ISI Score Layer  118 :  tensor(0.3805, device='cuda:0', grad_fn=<DivBackward0>)\n",
      "ISI Score Layer  119 :  tensor(0.3805, device='cuda:0', grad_fn=<DivBackward0>)\n",
      "ISI Score Layer  120 :  tensor(0.3805, device='cuda:0', grad_fn=<DivBackward0>)\n",
      "ISI Score Layer  121 :  tensor(0.3805, device='cuda:0', grad_fn=<DivBackward0>)\n",
      "ISI Score Layer  122 :  tensor(0.3806, device='cuda:0', grad_fn=<DivBackward0>)\n",
      "ISI Score Layer  123 :  tensor(0.3806, device='cuda:0', grad_fn=<DivBackward0>)\n",
      "ISI Score Layer  124 :  tensor(0.3806, device='cuda:0', grad_fn=<DivBackward0>)\n",
      "ISI Score Layer  125 :  tensor(0.3806, device='cuda:0', grad_fn=<DivBackward0>)\n",
      "ISI Score Layer  126 :  tensor(0.3807, device='cuda:0', grad_fn=<DivBackward0>)\n",
      "ISI Score Layer  127 :  tensor(0.3807, device='cuda:0', grad_fn=<DivBackward0>)\n",
      "ISI Score Layer  128 :  tensor(0.3807, device='cuda:0', grad_fn=<DivBackward0>)\n",
      "ISI Score Layer  129 :  tensor(0.3807, device='cuda:0', grad_fn=<DivBackward0>)\n",
      "ISI Score Layer  130 :  tensor(0.3808, device='cuda:0', grad_fn=<DivBackward0>)\n",
      "ISI Score Layer  131 :  tensor(0.3808, device='cuda:0', grad_fn=<DivBackward0>)\n",
      "ISI Score Layer  132 :  tensor(0.3808, device='cuda:0', grad_fn=<DivBackward0>)\n",
      "ISI Score Layer  133 :  tensor(0.3808, device='cuda:0', grad_fn=<DivBackward0>)\n",
      "ISI Score Layer  134 :  tensor(0.3809, device='cuda:0', grad_fn=<DivBackward0>)\n",
      "ISI Score Layer  135 :  tensor(0.3809, device='cuda:0', grad_fn=<DivBackward0>)\n",
      "ISI Score Layer  136 :  tensor(0.3809, device='cuda:0', grad_fn=<DivBackward0>)\n",
      "ISI Score Layer  137 :  tensor(0.3810, device='cuda:0', grad_fn=<DivBackward0>)\n",
      "ISI Score Layer  138 :  tensor(0.3810, device='cuda:0', grad_fn=<DivBackward0>)\n",
      "ISI Score Layer  139 :  tensor(0.3810, device='cuda:0', grad_fn=<DivBackward0>)\n",
      "ISI Score Layer  140 :  tensor(0.3811, device='cuda:0', grad_fn=<DivBackward0>)\n",
      "ISI Score Layer  141 :  tensor(0.3811, device='cuda:0', grad_fn=<DivBackward0>)\n",
      "ISI Score Layer  142 :  tensor(0.3812, device='cuda:0', grad_fn=<DivBackward0>)\n",
      "ISI Score Layer  143 :  tensor(0.3812, device='cuda:0', grad_fn=<DivBackward0>)\n",
      "ISI Score Layer  144 :  tensor(0.3812, device='cuda:0', grad_fn=<DivBackward0>)\n",
      "ISI Score Layer  145 :  tensor(0.3813, device='cuda:0', grad_fn=<DivBackward0>)\n",
      "ISI Score Layer  146 :  tensor(0.3813, device='cuda:0', grad_fn=<DivBackward0>)\n",
      "ISI Score Layer  147 :  tensor(0.3813, device='cuda:0', grad_fn=<DivBackward0>)\n",
      "ISI Score Layer  148 :  tensor(0.3814, device='cuda:0', grad_fn=<DivBackward0>)\n",
      "ISI Score Layer  149 :  tensor(0.3814, device='cuda:0', grad_fn=<DivBackward0>)\n",
      "ISI Score Layer  150 :  tensor(0.3815, device='cuda:0', grad_fn=<DivBackward0>)\n",
      "ISI Score Layer  151 :  tensor(0.3815, device='cuda:0', grad_fn=<DivBackward0>)\n",
      "ISI Score Layer  152 :  tensor(0.3816, device='cuda:0', grad_fn=<DivBackward0>)\n",
      "ISI Score Layer  153 :  tensor(0.3816, device='cuda:0', grad_fn=<DivBackward0>)\n",
      "ISI Score Layer  154 :  tensor(0.3817, device='cuda:0', grad_fn=<DivBackward0>)\n",
      "ISI Score Layer  155 :  tensor(0.3817, device='cuda:0', grad_fn=<DivBackward0>)\n",
      "ISI Score Layer  156 :  tensor(0.3817, device='cuda:0', grad_fn=<DivBackward0>)\n",
      "ISI Score Layer  157 :  tensor(0.3818, device='cuda:0', grad_fn=<DivBackward0>)\n",
      "ISI Score Layer  158 :  tensor(0.3818, device='cuda:0', grad_fn=<DivBackward0>)\n",
      "ISI Score Layer  159 :  tensor(0.3819, device='cuda:0', grad_fn=<DivBackward0>)\n",
      "ISI Score Layer  160 :  tensor(0.3819, device='cuda:0', grad_fn=<DivBackward0>)\n",
      "ISI Score Layer  161 :  tensor(0.3820, device='cuda:0', grad_fn=<DivBackward0>)\n",
      "ISI Score Layer  162 :  tensor(0.3820, device='cuda:0', grad_fn=<DivBackward0>)\n",
      "ISI Score Layer  163 :  tensor(0.3821, device='cuda:0', grad_fn=<DivBackward0>)\n",
      "ISI Score Layer  164 :  tensor(0.3821, device='cuda:0', grad_fn=<DivBackward0>)\n",
      "ISI Score Layer  165 :  tensor(0.3822, device='cuda:0', grad_fn=<DivBackward0>)\n",
      "ISI Score Layer  166 :  tensor(0.3822, device='cuda:0', grad_fn=<DivBackward0>)\n",
      "ISI Score Layer  167 :  tensor(0.3823, device='cuda:0', grad_fn=<DivBackward0>)\n",
      "ISI Score Layer  168 :  tensor(0.3823, device='cuda:0', grad_fn=<DivBackward0>)\n",
      "ISI Score Layer  169 :  tensor(0.3824, device='cuda:0', grad_fn=<DivBackward0>)\n",
      "ISI Score Layer  170 :  tensor(0.3824, device='cuda:0', grad_fn=<DivBackward0>)\n"
     ]
    }
   ],
   "source": [
    "\n",
    "\n",
    "T = 100\n",
    "K = 2\n",
    "N = 3\n",
    "\n",
    "\n",
    "input_dim = N * N * K + K * K * N \n",
    "N_updates_W = 10\n",
    "N_updates_C = 1\n",
    "num_layers = 170\n",
    "mode = 'test'\n",
    "\n",
    "\n",
    "model = myModel(input_dim, N_updates_W, N_updates_C, num_layers=num_layers, gamma_c=gamma_c, gamma_w=gamma_w, eps=eps, nu=nu, zeta=zeta).cuda()\n",
    "Rx = cov_X(X)\n",
    "W_predicted,_ = model(Rx,Winit,Cinit,A,mode)"
   ]
  },
  {
   "cell_type": "code",
   "execution_count": 13,
   "metadata": {},
   "outputs": [
    {
     "data": {
      "text/plain": [
       "tensor([[[ 3.1395e-02, -5.7970e-03],\n",
       "         [-1.0061e+00, -1.0143e+00],\n",
       "         [-1.3049e-01,  3.7982e-02]],\n",
       "\n",
       "        [[-1.0340e+00, -1.0361e+00],\n",
       "         [-5.5606e-02, -6.8842e-04],\n",
       "         [ 1.8000e-01, -1.7650e-01]],\n",
       "\n",
       "        [[-1.8344e-01, -1.7442e-01],\n",
       "         [ 1.2523e-01,  3.9138e-02],\n",
       "         [-1.0098e+00,  1.0184e+00]]], device='cuda:0',\n",
       "       grad_fn=<PermuteBackward0>)"
      ]
     },
     "execution_count": 13,
     "metadata": {},
     "output_type": "execute_result"
    }
   ],
   "source": [
    "W_predicted"
   ]
  },
  {
   "cell_type": "code",
   "execution_count": 14,
   "metadata": {},
   "outputs": [
    {
     "data": {
      "text/plain": [
       "tensor(0.3824, device='cuda:0', grad_fn=<DivBackward0>)"
      ]
     },
     "execution_count": 14,
     "metadata": {},
     "output_type": "execute_result"
    }
   ],
   "source": [
    "joint_isi(W_predicted,A)"
   ]
  },
  {
   "cell_type": "code",
   "execution_count": null,
   "metadata": {},
   "outputs": [],
   "source": []
  },
  {
   "cell_type": "code",
   "execution_count": null,
   "metadata": {},
   "outputs": [],
   "source": []
  },
  {
   "cell_type": "code",
   "execution_count": 1,
   "metadata": {},
   "outputs": [],
   "source": [
    "import torch\n",
    "import torch.nn as nn"
   ]
  },
  {
   "cell_type": "code",
   "execution_count": 3,
   "metadata": {},
   "outputs": [],
   "source": [
    "class ToyNetwork(nn.Module):\n",
    "    def __init__(self) -> None:\n",
    "        super().__init__()\n",
    "        self.fc1 = nn.Linear(2, 512)\n",
    "    \n",
    "    def forward(self, x):\n",
    "        x = self.fc1(x)\n",
    "        return x\n",
    "\n",
    "model = ToyNetwork()"
   ]
  },
  {
   "cell_type": "code",
   "execution_count": 4,
   "metadata": {},
   "outputs": [],
   "source": [
    "nb_examples = 25\n",
    "X = torch.randn(nb_examples,2)\n",
    "X_alone = torch.randn(2)"
   ]
  },
  {
   "cell_type": "code",
   "execution_count": 5,
   "metadata": {},
   "outputs": [
    {
     "data": {
      "text/plain": [
       "tensor([0.1541, 0.6563])"
      ]
     },
     "execution_count": 5,
     "metadata": {},
     "output_type": "execute_result"
    }
   ],
   "source": [
    "X_alone"
   ]
  },
  {
   "cell_type": "code",
   "execution_count": 7,
   "metadata": {},
   "outputs": [
    {
     "data": {
      "text/plain": [
       "torch.Size([512])"
      ]
     },
     "execution_count": 7,
     "metadata": {},
     "output_type": "execute_result"
    }
   ],
   "source": [
    "model(X_alone).shape"
   ]
  },
  {
   "cell_type": "code",
   "execution_count": 8,
   "metadata": {},
   "outputs": [
    {
     "data": {
      "text/plain": [
       "torch.Size([25, 512])"
      ]
     },
     "execution_count": 8,
     "metadata": {},
     "output_type": "execute_result"
    }
   ],
   "source": [
    "model(X).shape"
   ]
  },
  {
   "cell_type": "code",
   "execution_count": null,
   "metadata": {},
   "outputs": [],
   "source": []
  }
 ],
 "metadata": {
  "kernelspec": {
   "display_name": "base",
   "language": "python",
   "name": "python3"
  },
  "language_info": {
   "codemirror_mode": {
    "name": "ipython",
    "version": 3
   },
   "file_extension": ".py",
   "mimetype": "text/x-python",
   "name": "python",
   "nbconvert_exporter": "python",
   "pygments_lexer": "ipython3",
   "version": "3.8.12"
  }
 },
 "nbformat": 4,
 "nbformat_minor": 2
}
