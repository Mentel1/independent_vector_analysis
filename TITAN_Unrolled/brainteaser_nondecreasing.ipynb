{
 "cells": [
  {
   "cell_type": "code",
   "execution_count": 12,
   "metadata": {},
   "outputs": [],
   "source": [
    "import numpy as np\n",
    "\n",
    "def is_non_decreasing(arr):\n",
    "\n",
    "    for i in range(1, len(arr)):\n",
    "        if arr[i] < arr[i-1]:\n",
    "            return False\n",
    "    return True\n",
    "\n",
    "\n",
    "def faster_is_non_decreasing(arr):\n",
    "    return np.all(np.diff(arr) >= 0)\n",
    "\n",
    "    \n",
    "\n",
    "\n",
    "\n",
    "\n",
    "\n"
   ]
  },
  {
   "cell_type": "code",
   "execution_count": 31,
   "metadata": {},
   "outputs": [
    {
     "name": "stdout",
     "output_type": "stream",
     "text": [
      "Execution time for fast mode: 0.5406129360198975 seconds\n",
      "Execution time for slow mode: 0.34827709197998047 seconds\n"
     ]
    },
    {
     "data": {
      "text/plain": [
       "0.0"
      ]
     },
     "execution_count": 31,
     "metadata": {},
     "output_type": "execute_result"
    }
   ],
   "source": [
    "import time\n",
    "\n",
    "def get_probability(N, mode):\n",
    "    count = 0\n",
    "    start_time = time.time()\n",
    "    for i in range(N):\n",
    "        dice_rolls = np.random.choice([1, 2, 3, 4, 5, 6], size=10)\n",
    "\n",
    "        if mode == 'fast' and faster_is_non_decreasing(dice_rolls):\n",
    "            count += 1\n",
    "        elif mode == 'slow' and is_non_decreasing(dice_rolls):\n",
    "            count += 1\n",
    "    end_time = time.time()\n",
    "    print(f\"Execution time for {mode} mode: {end_time - start_time} seconds\")\n",
    "    return count/N\n",
    "\n",
    "N = 10000\n",
    "\n",
    "mode = 'fast'\n",
    "get_probability(N, mode)\n",
    "\n",
    "mode = 'slow'\n",
    "get_probability(N, mode)"
   ]
  }
 ],
 "metadata": {
  "kernelspec": {
   "display_name": "base",
   "language": "python",
   "name": "python3"
  },
  "language_info": {
   "codemirror_mode": {
    "name": "ipython",
    "version": 3
   },
   "file_extension": ".py",
   "mimetype": "text/x-python",
   "name": "python",
   "nbconvert_exporter": "python",
   "pygments_lexer": "ipython3",
   "version": "3.8.12"
  }
 },
 "nbformat": 4,
 "nbformat_minor": 2
}
